{
 "cells": [
  {
   "cell_type": "markdown",
   "id": "0cb9ec06",
   "metadata": {},
   "source": [
    "IMPORTING NECESSARY LIBRARIES"
   ]
  },
  {
   "cell_type": "code",
   "execution_count": 1,
   "id": "9c7c554e",
   "metadata": {},
   "outputs": [],
   "source": [
    "import numpy as np\n",
    "import pandas as pd\n",
    "\n",
    "import matplotlib.pyplot as plt\n",
    "import seaborn as sns\n",
    "\n",
    "#import tensorflow as tf\n",
    "#from tensorflow import keras\n",
    "\n",
    "from sklearn.preprocessing import MinMaxScaler\n",
    "\n",
    "#from tensorflow.keras.preprocessing.sequence import TimeseriesGenerator\n",
    "\n",
    "#from tensorflow.keras.models import Sequential\n",
    "#from tensorflow.keras.layers import Dense, LSTM\n",
    "\n",
    "#from tensorflow.keras.callbacks import EarlyStopping"
   ]
  },
  {
   "cell_type": "markdown",
   "id": "bb57aa28",
   "metadata": {},
   "source": [
    "LOAD AND READ THE DATASET"
   ]
  },
  {
   "cell_type": "code",
   "execution_count": 4,
   "id": "4b08525e",
   "metadata": {},
   "outputs": [],
   "source": [
    "data=pd.read_excel(r\"C:\\Users\\STUDENT\\Desktop\\DA LAB III _QP\\SET 2\\Air Quality Index_DA LAB III.xlsx\")"
   ]
  },
  {
   "cell_type": "code",
   "execution_count": 5,
   "id": "38a8b6c0",
   "metadata": {},
   "outputs": [
    {
     "data": {
      "text/html": [
       "<div>\n",
       "<style scoped>\n",
       "    .dataframe tbody tr th:only-of-type {\n",
       "        vertical-align: middle;\n",
       "    }\n",
       "\n",
       "    .dataframe tbody tr th {\n",
       "        vertical-align: top;\n",
       "    }\n",
       "\n",
       "    .dataframe thead th {\n",
       "        text-align: right;\n",
       "    }\n",
       "</style>\n",
       "<table border=\"1\" class=\"dataframe\">\n",
       "  <thead>\n",
       "    <tr style=\"text-align: right;\">\n",
       "      <th></th>\n",
       "      <th>City</th>\n",
       "      <th>Date</th>\n",
       "      <th>PM2.5</th>\n",
       "      <th>PM10</th>\n",
       "      <th>NO</th>\n",
       "      <th>NO2</th>\n",
       "      <th>NOx</th>\n",
       "      <th>NH3</th>\n",
       "      <th>CO</th>\n",
       "      <th>SO2</th>\n",
       "      <th>O3</th>\n",
       "      <th>AQI</th>\n",
       "    </tr>\n",
       "  </thead>\n",
       "  <tbody>\n",
       "    <tr>\n",
       "      <th>0</th>\n",
       "      <td>Thiruvananthapuram</td>\n",
       "      <td>2017-06-23</td>\n",
       "      <td>15.08</td>\n",
       "      <td>31.09</td>\n",
       "      <td>1.94</td>\n",
       "      <td>5.80</td>\n",
       "      <td>4.65</td>\n",
       "      <td>NaN</td>\n",
       "      <td>0.71</td>\n",
       "      <td>4.65</td>\n",
       "      <td>17.54</td>\n",
       "      <td>47.0</td>\n",
       "    </tr>\n",
       "    <tr>\n",
       "      <th>1</th>\n",
       "      <td>Thiruvananthapuram</td>\n",
       "      <td>2017-06-24</td>\n",
       "      <td>11.15</td>\n",
       "      <td>22.15</td>\n",
       "      <td>1.87</td>\n",
       "      <td>6.07</td>\n",
       "      <td>4.69</td>\n",
       "      <td>NaN</td>\n",
       "      <td>0.60</td>\n",
       "      <td>4.12</td>\n",
       "      <td>16.65</td>\n",
       "      <td>44.0</td>\n",
       "    </tr>\n",
       "    <tr>\n",
       "      <th>2</th>\n",
       "      <td>Thiruvananthapuram</td>\n",
       "      <td>2017-06-25</td>\n",
       "      <td>12.25</td>\n",
       "      <td>23.53</td>\n",
       "      <td>1.88</td>\n",
       "      <td>5.22</td>\n",
       "      <td>4.29</td>\n",
       "      <td>NaN</td>\n",
       "      <td>0.56</td>\n",
       "      <td>3.83</td>\n",
       "      <td>18.70</td>\n",
       "      <td>38.0</td>\n",
       "    </tr>\n",
       "    <tr>\n",
       "      <th>3</th>\n",
       "      <td>Thiruvananthapuram</td>\n",
       "      <td>2017-06-26</td>\n",
       "      <td>10.06</td>\n",
       "      <td>22.58</td>\n",
       "      <td>1.98</td>\n",
       "      <td>4.74</td>\n",
       "      <td>4.13</td>\n",
       "      <td>NaN</td>\n",
       "      <td>0.47</td>\n",
       "      <td>3.73</td>\n",
       "      <td>19.53</td>\n",
       "      <td>37.0</td>\n",
       "    </tr>\n",
       "    <tr>\n",
       "      <th>4</th>\n",
       "      <td>Thiruvananthapuram</td>\n",
       "      <td>2017-06-27</td>\n",
       "      <td>13.03</td>\n",
       "      <td>21.61</td>\n",
       "      <td>1.90</td>\n",
       "      <td>6.64</td>\n",
       "      <td>5.03</td>\n",
       "      <td>NaN</td>\n",
       "      <td>0.64</td>\n",
       "      <td>4.00</td>\n",
       "      <td>14.46</td>\n",
       "      <td>46.0</td>\n",
       "    </tr>\n",
       "    <tr>\n",
       "      <th>...</th>\n",
       "      <td>...</td>\n",
       "      <td>...</td>\n",
       "      <td>...</td>\n",
       "      <td>...</td>\n",
       "      <td>...</td>\n",
       "      <td>...</td>\n",
       "      <td>...</td>\n",
       "      <td>...</td>\n",
       "      <td>...</td>\n",
       "      <td>...</td>\n",
       "      <td>...</td>\n",
       "      <td>...</td>\n",
       "    </tr>\n",
       "    <tr>\n",
       "      <th>1100</th>\n",
       "      <td>Thiruvananthapuram</td>\n",
       "      <td>2020-06-27</td>\n",
       "      <td>18.06</td>\n",
       "      <td>36.04</td>\n",
       "      <td>8.19</td>\n",
       "      <td>9.50</td>\n",
       "      <td>12.46</td>\n",
       "      <td>6.57</td>\n",
       "      <td>0.61</td>\n",
       "      <td>8.38</td>\n",
       "      <td>29.89</td>\n",
       "      <td>42.0</td>\n",
       "    </tr>\n",
       "    <tr>\n",
       "      <th>1101</th>\n",
       "      <td>Thiruvananthapuram</td>\n",
       "      <td>2020-06-28</td>\n",
       "      <td>22.51</td>\n",
       "      <td>43.97</td>\n",
       "      <td>7.00</td>\n",
       "      <td>7.38</td>\n",
       "      <td>9.57</td>\n",
       "      <td>6.09</td>\n",
       "      <td>0.61</td>\n",
       "      <td>8.32</td>\n",
       "      <td>27.73</td>\n",
       "      <td>43.0</td>\n",
       "    </tr>\n",
       "    <tr>\n",
       "      <th>1102</th>\n",
       "      <td>Thiruvananthapuram</td>\n",
       "      <td>2020-06-29</td>\n",
       "      <td>23.17</td>\n",
       "      <td>46.71</td>\n",
       "      <td>8.87</td>\n",
       "      <td>10.75</td>\n",
       "      <td>12.88</td>\n",
       "      <td>5.65</td>\n",
       "      <td>0.68</td>\n",
       "      <td>8.07</td>\n",
       "      <td>25.61</td>\n",
       "      <td>49.0</td>\n",
       "    </tr>\n",
       "    <tr>\n",
       "      <th>1103</th>\n",
       "      <td>Thiruvananthapuram</td>\n",
       "      <td>2020-06-30</td>\n",
       "      <td>20.66</td>\n",
       "      <td>41.53</td>\n",
       "      <td>8.65</td>\n",
       "      <td>9.93</td>\n",
       "      <td>12.41</td>\n",
       "      <td>5.88</td>\n",
       "      <td>0.53</td>\n",
       "      <td>8.40</td>\n",
       "      <td>26.00</td>\n",
       "      <td>40.0</td>\n",
       "    </tr>\n",
       "    <tr>\n",
       "      <th>1104</th>\n",
       "      <td>Thiruvananthapuram</td>\n",
       "      <td>2020-07-01</td>\n",
       "      <td>2.00</td>\n",
       "      <td>35.00</td>\n",
       "      <td>1.68</td>\n",
       "      <td>2.30</td>\n",
       "      <td>2.58</td>\n",
       "      <td>5.62</td>\n",
       "      <td>0.42</td>\n",
       "      <td>6.15</td>\n",
       "      <td>22.10</td>\n",
       "      <td>41.0</td>\n",
       "    </tr>\n",
       "  </tbody>\n",
       "</table>\n",
       "<p>1105 rows × 12 columns</p>\n",
       "</div>"
      ],
      "text/plain": [
       "                    City       Date  PM2.5   PM10    NO    NO2    NOx   NH3  \\\n",
       "0     Thiruvananthapuram 2017-06-23  15.08  31.09  1.94   5.80   4.65   NaN   \n",
       "1     Thiruvananthapuram 2017-06-24  11.15  22.15  1.87   6.07   4.69   NaN   \n",
       "2     Thiruvananthapuram 2017-06-25  12.25  23.53  1.88   5.22   4.29   NaN   \n",
       "3     Thiruvananthapuram 2017-06-26  10.06  22.58  1.98   4.74   4.13   NaN   \n",
       "4     Thiruvananthapuram 2017-06-27  13.03  21.61  1.90   6.64   5.03   NaN   \n",
       "...                  ...        ...    ...    ...   ...    ...    ...   ...   \n",
       "1100  Thiruvananthapuram 2020-06-27  18.06  36.04  8.19   9.50  12.46  6.57   \n",
       "1101  Thiruvananthapuram 2020-06-28  22.51  43.97  7.00   7.38   9.57  6.09   \n",
       "1102  Thiruvananthapuram 2020-06-29  23.17  46.71  8.87  10.75  12.88  5.65   \n",
       "1103  Thiruvananthapuram 2020-06-30  20.66  41.53  8.65   9.93  12.41  5.88   \n",
       "1104  Thiruvananthapuram 2020-07-01   2.00  35.00  1.68   2.30   2.58  5.62   \n",
       "\n",
       "        CO   SO2     O3   AQI  \n",
       "0     0.71  4.65  17.54  47.0  \n",
       "1     0.60  4.12  16.65  44.0  \n",
       "2     0.56  3.83  18.70  38.0  \n",
       "3     0.47  3.73  19.53  37.0  \n",
       "4     0.64  4.00  14.46  46.0  \n",
       "...    ...   ...    ...   ...  \n",
       "1100  0.61  8.38  29.89  42.0  \n",
       "1101  0.61  8.32  27.73  43.0  \n",
       "1102  0.68  8.07  25.61  49.0  \n",
       "1103  0.53  8.40  26.00  40.0  \n",
       "1104  0.42  6.15  22.10  41.0  \n",
       "\n",
       "[1105 rows x 12 columns]"
      ]
     },
     "execution_count": 5,
     "metadata": {},
     "output_type": "execute_result"
    }
   ],
   "source": [
    "data"
   ]
  },
  {
   "cell_type": "markdown",
   "id": "5f903d72",
   "metadata": {},
   "source": [
    "2) DATA PREPROCESSING"
   ]
  },
  {
   "cell_type": "code",
   "execution_count": 6,
   "id": "d134c76b",
   "metadata": {},
   "outputs": [
    {
     "data": {
      "text/html": [
       "<div>\n",
       "<style scoped>\n",
       "    .dataframe tbody tr th:only-of-type {\n",
       "        vertical-align: middle;\n",
       "    }\n",
       "\n",
       "    .dataframe tbody tr th {\n",
       "        vertical-align: top;\n",
       "    }\n",
       "\n",
       "    .dataframe thead th {\n",
       "        text-align: right;\n",
       "    }\n",
       "</style>\n",
       "<table border=\"1\" class=\"dataframe\">\n",
       "  <thead>\n",
       "    <tr style=\"text-align: right;\">\n",
       "      <th></th>\n",
       "      <th>City</th>\n",
       "      <th>Date</th>\n",
       "      <th>PM2.5</th>\n",
       "      <th>PM10</th>\n",
       "      <th>NO</th>\n",
       "      <th>NO2</th>\n",
       "      <th>NOx</th>\n",
       "      <th>NH3</th>\n",
       "      <th>CO</th>\n",
       "      <th>SO2</th>\n",
       "      <th>O3</th>\n",
       "      <th>AQI</th>\n",
       "    </tr>\n",
       "  </thead>\n",
       "  <tbody>\n",
       "    <tr>\n",
       "      <th>0</th>\n",
       "      <td>Thiruvananthapuram</td>\n",
       "      <td>2017-06-23</td>\n",
       "      <td>15.08</td>\n",
       "      <td>31.09</td>\n",
       "      <td>1.94</td>\n",
       "      <td>5.80</td>\n",
       "      <td>4.65</td>\n",
       "      <td>NaN</td>\n",
       "      <td>0.71</td>\n",
       "      <td>4.65</td>\n",
       "      <td>17.54</td>\n",
       "      <td>47.0</td>\n",
       "    </tr>\n",
       "    <tr>\n",
       "      <th>1</th>\n",
       "      <td>Thiruvananthapuram</td>\n",
       "      <td>2017-06-24</td>\n",
       "      <td>11.15</td>\n",
       "      <td>22.15</td>\n",
       "      <td>1.87</td>\n",
       "      <td>6.07</td>\n",
       "      <td>4.69</td>\n",
       "      <td>NaN</td>\n",
       "      <td>0.60</td>\n",
       "      <td>4.12</td>\n",
       "      <td>16.65</td>\n",
       "      <td>44.0</td>\n",
       "    </tr>\n",
       "    <tr>\n",
       "      <th>2</th>\n",
       "      <td>Thiruvananthapuram</td>\n",
       "      <td>2017-06-25</td>\n",
       "      <td>12.25</td>\n",
       "      <td>23.53</td>\n",
       "      <td>1.88</td>\n",
       "      <td>5.22</td>\n",
       "      <td>4.29</td>\n",
       "      <td>NaN</td>\n",
       "      <td>0.56</td>\n",
       "      <td>3.83</td>\n",
       "      <td>18.70</td>\n",
       "      <td>38.0</td>\n",
       "    </tr>\n",
       "    <tr>\n",
       "      <th>3</th>\n",
       "      <td>Thiruvananthapuram</td>\n",
       "      <td>2017-06-26</td>\n",
       "      <td>10.06</td>\n",
       "      <td>22.58</td>\n",
       "      <td>1.98</td>\n",
       "      <td>4.74</td>\n",
       "      <td>4.13</td>\n",
       "      <td>NaN</td>\n",
       "      <td>0.47</td>\n",
       "      <td>3.73</td>\n",
       "      <td>19.53</td>\n",
       "      <td>37.0</td>\n",
       "    </tr>\n",
       "    <tr>\n",
       "      <th>4</th>\n",
       "      <td>Thiruvananthapuram</td>\n",
       "      <td>2017-06-27</td>\n",
       "      <td>13.03</td>\n",
       "      <td>21.61</td>\n",
       "      <td>1.90</td>\n",
       "      <td>6.64</td>\n",
       "      <td>5.03</td>\n",
       "      <td>NaN</td>\n",
       "      <td>0.64</td>\n",
       "      <td>4.00</td>\n",
       "      <td>14.46</td>\n",
       "      <td>46.0</td>\n",
       "    </tr>\n",
       "  </tbody>\n",
       "</table>\n",
       "</div>"
      ],
      "text/plain": [
       "                 City       Date  PM2.5   PM10    NO   NO2   NOx  NH3    CO  \\\n",
       "0  Thiruvananthapuram 2017-06-23  15.08  31.09  1.94  5.80  4.65  NaN  0.71   \n",
       "1  Thiruvananthapuram 2017-06-24  11.15  22.15  1.87  6.07  4.69  NaN  0.60   \n",
       "2  Thiruvananthapuram 2017-06-25  12.25  23.53  1.88  5.22  4.29  NaN  0.56   \n",
       "3  Thiruvananthapuram 2017-06-26  10.06  22.58  1.98  4.74  4.13  NaN  0.47   \n",
       "4  Thiruvananthapuram 2017-06-27  13.03  21.61  1.90  6.64  5.03  NaN  0.64   \n",
       "\n",
       "    SO2     O3   AQI  \n",
       "0  4.65  17.54  47.0  \n",
       "1  4.12  16.65  44.0  \n",
       "2  3.83  18.70  38.0  \n",
       "3  3.73  19.53  37.0  \n",
       "4  4.00  14.46  46.0  "
      ]
     },
     "execution_count": 6,
     "metadata": {},
     "output_type": "execute_result"
    }
   ],
   "source": [
    "data.head()"
   ]
  },
  {
   "cell_type": "code",
   "execution_count": 8,
   "id": "c076cecc",
   "metadata": {},
   "outputs": [
    {
     "data": {
      "text/html": [
       "<div>\n",
       "<style scoped>\n",
       "    .dataframe tbody tr th:only-of-type {\n",
       "        vertical-align: middle;\n",
       "    }\n",
       "\n",
       "    .dataframe tbody tr th {\n",
       "        vertical-align: top;\n",
       "    }\n",
       "\n",
       "    .dataframe thead th {\n",
       "        text-align: right;\n",
       "    }\n",
       "</style>\n",
       "<table border=\"1\" class=\"dataframe\">\n",
       "  <thead>\n",
       "    <tr style=\"text-align: right;\">\n",
       "      <th></th>\n",
       "      <th>City</th>\n",
       "      <th>Date</th>\n",
       "      <th>PM2.5</th>\n",
       "      <th>PM10</th>\n",
       "      <th>NO</th>\n",
       "      <th>NO2</th>\n",
       "      <th>NOx</th>\n",
       "      <th>NH3</th>\n",
       "      <th>CO</th>\n",
       "      <th>SO2</th>\n",
       "      <th>O3</th>\n",
       "      <th>AQI</th>\n",
       "    </tr>\n",
       "  </thead>\n",
       "  <tbody>\n",
       "    <tr>\n",
       "      <th>1100</th>\n",
       "      <td>Thiruvananthapuram</td>\n",
       "      <td>2020-06-27</td>\n",
       "      <td>18.06</td>\n",
       "      <td>36.04</td>\n",
       "      <td>8.19</td>\n",
       "      <td>9.50</td>\n",
       "      <td>12.46</td>\n",
       "      <td>6.57</td>\n",
       "      <td>0.61</td>\n",
       "      <td>8.38</td>\n",
       "      <td>29.89</td>\n",
       "      <td>42.0</td>\n",
       "    </tr>\n",
       "    <tr>\n",
       "      <th>1101</th>\n",
       "      <td>Thiruvananthapuram</td>\n",
       "      <td>2020-06-28</td>\n",
       "      <td>22.51</td>\n",
       "      <td>43.97</td>\n",
       "      <td>7.00</td>\n",
       "      <td>7.38</td>\n",
       "      <td>9.57</td>\n",
       "      <td>6.09</td>\n",
       "      <td>0.61</td>\n",
       "      <td>8.32</td>\n",
       "      <td>27.73</td>\n",
       "      <td>43.0</td>\n",
       "    </tr>\n",
       "    <tr>\n",
       "      <th>1102</th>\n",
       "      <td>Thiruvananthapuram</td>\n",
       "      <td>2020-06-29</td>\n",
       "      <td>23.17</td>\n",
       "      <td>46.71</td>\n",
       "      <td>8.87</td>\n",
       "      <td>10.75</td>\n",
       "      <td>12.88</td>\n",
       "      <td>5.65</td>\n",
       "      <td>0.68</td>\n",
       "      <td>8.07</td>\n",
       "      <td>25.61</td>\n",
       "      <td>49.0</td>\n",
       "    </tr>\n",
       "    <tr>\n",
       "      <th>1103</th>\n",
       "      <td>Thiruvananthapuram</td>\n",
       "      <td>2020-06-30</td>\n",
       "      <td>20.66</td>\n",
       "      <td>41.53</td>\n",
       "      <td>8.65</td>\n",
       "      <td>9.93</td>\n",
       "      <td>12.41</td>\n",
       "      <td>5.88</td>\n",
       "      <td>0.53</td>\n",
       "      <td>8.40</td>\n",
       "      <td>26.00</td>\n",
       "      <td>40.0</td>\n",
       "    </tr>\n",
       "    <tr>\n",
       "      <th>1104</th>\n",
       "      <td>Thiruvananthapuram</td>\n",
       "      <td>2020-07-01</td>\n",
       "      <td>2.00</td>\n",
       "      <td>35.00</td>\n",
       "      <td>1.68</td>\n",
       "      <td>2.30</td>\n",
       "      <td>2.58</td>\n",
       "      <td>5.62</td>\n",
       "      <td>0.42</td>\n",
       "      <td>6.15</td>\n",
       "      <td>22.10</td>\n",
       "      <td>41.0</td>\n",
       "    </tr>\n",
       "  </tbody>\n",
       "</table>\n",
       "</div>"
      ],
      "text/plain": [
       "                    City       Date  PM2.5   PM10    NO    NO2    NOx   NH3  \\\n",
       "1100  Thiruvananthapuram 2020-06-27  18.06  36.04  8.19   9.50  12.46  6.57   \n",
       "1101  Thiruvananthapuram 2020-06-28  22.51  43.97  7.00   7.38   9.57  6.09   \n",
       "1102  Thiruvananthapuram 2020-06-29  23.17  46.71  8.87  10.75  12.88  5.65   \n",
       "1103  Thiruvananthapuram 2020-06-30  20.66  41.53  8.65   9.93  12.41  5.88   \n",
       "1104  Thiruvananthapuram 2020-07-01   2.00  35.00  1.68   2.30   2.58  5.62   \n",
       "\n",
       "        CO   SO2     O3   AQI  \n",
       "1100  0.61  8.38  29.89  42.0  \n",
       "1101  0.61  8.32  27.73  43.0  \n",
       "1102  0.68  8.07  25.61  49.0  \n",
       "1103  0.53  8.40  26.00  40.0  \n",
       "1104  0.42  6.15  22.10  41.0  "
      ]
     },
     "execution_count": 8,
     "metadata": {},
     "output_type": "execute_result"
    }
   ],
   "source": [
    "data.tail()"
   ]
  },
  {
   "cell_type": "code",
   "execution_count": 9,
   "id": "6503f2d1",
   "metadata": {},
   "outputs": [
    {
     "data": {
      "text/html": [
       "<div>\n",
       "<style scoped>\n",
       "    .dataframe tbody tr th:only-of-type {\n",
       "        vertical-align: middle;\n",
       "    }\n",
       "\n",
       "    .dataframe tbody tr th {\n",
       "        vertical-align: top;\n",
       "    }\n",
       "\n",
       "    .dataframe thead th {\n",
       "        text-align: right;\n",
       "    }\n",
       "</style>\n",
       "<table border=\"1\" class=\"dataframe\">\n",
       "  <thead>\n",
       "    <tr style=\"text-align: right;\">\n",
       "      <th></th>\n",
       "      <th>City</th>\n",
       "      <th>Date</th>\n",
       "      <th>PM2.5</th>\n",
       "      <th>PM10</th>\n",
       "      <th>NO</th>\n",
       "      <th>NO2</th>\n",
       "      <th>NOx</th>\n",
       "      <th>NH3</th>\n",
       "      <th>CO</th>\n",
       "      <th>SO2</th>\n",
       "      <th>O3</th>\n",
       "      <th>AQI</th>\n",
       "    </tr>\n",
       "  </thead>\n",
       "  <tbody>\n",
       "    <tr>\n",
       "      <th>0</th>\n",
       "      <td>False</td>\n",
       "      <td>False</td>\n",
       "      <td>False</td>\n",
       "      <td>False</td>\n",
       "      <td>False</td>\n",
       "      <td>False</td>\n",
       "      <td>False</td>\n",
       "      <td>True</td>\n",
       "      <td>False</td>\n",
       "      <td>False</td>\n",
       "      <td>False</td>\n",
       "      <td>False</td>\n",
       "    </tr>\n",
       "    <tr>\n",
       "      <th>1</th>\n",
       "      <td>False</td>\n",
       "      <td>False</td>\n",
       "      <td>False</td>\n",
       "      <td>False</td>\n",
       "      <td>False</td>\n",
       "      <td>False</td>\n",
       "      <td>False</td>\n",
       "      <td>True</td>\n",
       "      <td>False</td>\n",
       "      <td>False</td>\n",
       "      <td>False</td>\n",
       "      <td>False</td>\n",
       "    </tr>\n",
       "    <tr>\n",
       "      <th>2</th>\n",
       "      <td>False</td>\n",
       "      <td>False</td>\n",
       "      <td>False</td>\n",
       "      <td>False</td>\n",
       "      <td>False</td>\n",
       "      <td>False</td>\n",
       "      <td>False</td>\n",
       "      <td>True</td>\n",
       "      <td>False</td>\n",
       "      <td>False</td>\n",
       "      <td>False</td>\n",
       "      <td>False</td>\n",
       "    </tr>\n",
       "    <tr>\n",
       "      <th>3</th>\n",
       "      <td>False</td>\n",
       "      <td>False</td>\n",
       "      <td>False</td>\n",
       "      <td>False</td>\n",
       "      <td>False</td>\n",
       "      <td>False</td>\n",
       "      <td>False</td>\n",
       "      <td>True</td>\n",
       "      <td>False</td>\n",
       "      <td>False</td>\n",
       "      <td>False</td>\n",
       "      <td>False</td>\n",
       "    </tr>\n",
       "    <tr>\n",
       "      <th>4</th>\n",
       "      <td>False</td>\n",
       "      <td>False</td>\n",
       "      <td>False</td>\n",
       "      <td>False</td>\n",
       "      <td>False</td>\n",
       "      <td>False</td>\n",
       "      <td>False</td>\n",
       "      <td>True</td>\n",
       "      <td>False</td>\n",
       "      <td>False</td>\n",
       "      <td>False</td>\n",
       "      <td>False</td>\n",
       "    </tr>\n",
       "    <tr>\n",
       "      <th>...</th>\n",
       "      <td>...</td>\n",
       "      <td>...</td>\n",
       "      <td>...</td>\n",
       "      <td>...</td>\n",
       "      <td>...</td>\n",
       "      <td>...</td>\n",
       "      <td>...</td>\n",
       "      <td>...</td>\n",
       "      <td>...</td>\n",
       "      <td>...</td>\n",
       "      <td>...</td>\n",
       "      <td>...</td>\n",
       "    </tr>\n",
       "    <tr>\n",
       "      <th>1100</th>\n",
       "      <td>False</td>\n",
       "      <td>False</td>\n",
       "      <td>False</td>\n",
       "      <td>False</td>\n",
       "      <td>False</td>\n",
       "      <td>False</td>\n",
       "      <td>False</td>\n",
       "      <td>False</td>\n",
       "      <td>False</td>\n",
       "      <td>False</td>\n",
       "      <td>False</td>\n",
       "      <td>False</td>\n",
       "    </tr>\n",
       "    <tr>\n",
       "      <th>1101</th>\n",
       "      <td>False</td>\n",
       "      <td>False</td>\n",
       "      <td>False</td>\n",
       "      <td>False</td>\n",
       "      <td>False</td>\n",
       "      <td>False</td>\n",
       "      <td>False</td>\n",
       "      <td>False</td>\n",
       "      <td>False</td>\n",
       "      <td>False</td>\n",
       "      <td>False</td>\n",
       "      <td>False</td>\n",
       "    </tr>\n",
       "    <tr>\n",
       "      <th>1102</th>\n",
       "      <td>False</td>\n",
       "      <td>False</td>\n",
       "      <td>False</td>\n",
       "      <td>False</td>\n",
       "      <td>False</td>\n",
       "      <td>False</td>\n",
       "      <td>False</td>\n",
       "      <td>False</td>\n",
       "      <td>False</td>\n",
       "      <td>False</td>\n",
       "      <td>False</td>\n",
       "      <td>False</td>\n",
       "    </tr>\n",
       "    <tr>\n",
       "      <th>1103</th>\n",
       "      <td>False</td>\n",
       "      <td>False</td>\n",
       "      <td>False</td>\n",
       "      <td>False</td>\n",
       "      <td>False</td>\n",
       "      <td>False</td>\n",
       "      <td>False</td>\n",
       "      <td>False</td>\n",
       "      <td>False</td>\n",
       "      <td>False</td>\n",
       "      <td>False</td>\n",
       "      <td>False</td>\n",
       "    </tr>\n",
       "    <tr>\n",
       "      <th>1104</th>\n",
       "      <td>False</td>\n",
       "      <td>False</td>\n",
       "      <td>False</td>\n",
       "      <td>False</td>\n",
       "      <td>False</td>\n",
       "      <td>False</td>\n",
       "      <td>False</td>\n",
       "      <td>False</td>\n",
       "      <td>False</td>\n",
       "      <td>False</td>\n",
       "      <td>False</td>\n",
       "      <td>False</td>\n",
       "    </tr>\n",
       "  </tbody>\n",
       "</table>\n",
       "<p>1105 rows × 12 columns</p>\n",
       "</div>"
      ],
      "text/plain": [
       "       City   Date  PM2.5   PM10     NO    NO2    NOx    NH3     CO    SO2  \\\n",
       "0     False  False  False  False  False  False  False   True  False  False   \n",
       "1     False  False  False  False  False  False  False   True  False  False   \n",
       "2     False  False  False  False  False  False  False   True  False  False   \n",
       "3     False  False  False  False  False  False  False   True  False  False   \n",
       "4     False  False  False  False  False  False  False   True  False  False   \n",
       "...     ...    ...    ...    ...    ...    ...    ...    ...    ...    ...   \n",
       "1100  False  False  False  False  False  False  False  False  False  False   \n",
       "1101  False  False  False  False  False  False  False  False  False  False   \n",
       "1102  False  False  False  False  False  False  False  False  False  False   \n",
       "1103  False  False  False  False  False  False  False  False  False  False   \n",
       "1104  False  False  False  False  False  False  False  False  False  False   \n",
       "\n",
       "         O3    AQI  \n",
       "0     False  False  \n",
       "1     False  False  \n",
       "2     False  False  \n",
       "3     False  False  \n",
       "4     False  False  \n",
       "...     ...    ...  \n",
       "1100  False  False  \n",
       "1101  False  False  \n",
       "1102  False  False  \n",
       "1103  False  False  \n",
       "1104  False  False  \n",
       "\n",
       "[1105 rows x 12 columns]"
      ]
     },
     "execution_count": 9,
     "metadata": {},
     "output_type": "execute_result"
    }
   ],
   "source": [
    "data.isnull()"
   ]
  },
  {
   "cell_type": "code",
   "execution_count": 10,
   "id": "031b3fdf",
   "metadata": {},
   "outputs": [
    {
     "data": {
      "text/html": [
       "<div>\n",
       "<style scoped>\n",
       "    .dataframe tbody tr th:only-of-type {\n",
       "        vertical-align: middle;\n",
       "    }\n",
       "\n",
       "    .dataframe tbody tr th {\n",
       "        vertical-align: top;\n",
       "    }\n",
       "\n",
       "    .dataframe thead th {\n",
       "        text-align: right;\n",
       "    }\n",
       "</style>\n",
       "<table border=\"1\" class=\"dataframe\">\n",
       "  <thead>\n",
       "    <tr style=\"text-align: right;\">\n",
       "      <th></th>\n",
       "      <th>PM2.5</th>\n",
       "      <th>PM10</th>\n",
       "      <th>NO</th>\n",
       "      <th>NO2</th>\n",
       "      <th>NOx</th>\n",
       "      <th>NH3</th>\n",
       "      <th>CO</th>\n",
       "      <th>SO2</th>\n",
       "      <th>O3</th>\n",
       "      <th>AQI</th>\n",
       "    </tr>\n",
       "  </thead>\n",
       "  <tbody>\n",
       "    <tr>\n",
       "      <th>count</th>\n",
       "      <td>1066.000000</td>\n",
       "      <td>1070.000000</td>\n",
       "      <td>1077.000000</td>\n",
       "      <td>1077.000000</td>\n",
       "      <td>1092.000000</td>\n",
       "      <td>999.000000</td>\n",
       "      <td>1092.000000</td>\n",
       "      <td>1077.000000</td>\n",
       "      <td>1077.000000</td>\n",
       "      <td>1052.000000</td>\n",
       "    </tr>\n",
       "    <tr>\n",
       "      <th>mean</th>\n",
       "      <td>28.045901</td>\n",
       "      <td>52.949953</td>\n",
       "      <td>3.461811</td>\n",
       "      <td>9.391291</td>\n",
       "      <td>8.194093</td>\n",
       "      <td>5.061902</td>\n",
       "      <td>0.952106</td>\n",
       "      <td>5.662182</td>\n",
       "      <td>34.743315</td>\n",
       "      <td>75.878327</td>\n",
       "    </tr>\n",
       "    <tr>\n",
       "      <th>std</th>\n",
       "      <td>17.843642</td>\n",
       "      <td>24.018704</td>\n",
       "      <td>3.658476</td>\n",
       "      <td>6.006485</td>\n",
       "      <td>6.458936</td>\n",
       "      <td>3.677780</td>\n",
       "      <td>0.531853</td>\n",
       "      <td>3.971979</td>\n",
       "      <td>17.997789</td>\n",
       "      <td>28.396178</td>\n",
       "    </tr>\n",
       "    <tr>\n",
       "      <th>min</th>\n",
       "      <td>2.000000</td>\n",
       "      <td>10.500000</td>\n",
       "      <td>0.480000</td>\n",
       "      <td>1.350000</td>\n",
       "      <td>0.000000</td>\n",
       "      <td>1.020000</td>\n",
       "      <td>0.000000</td>\n",
       "      <td>0.410000</td>\n",
       "      <td>2.620000</td>\n",
       "      <td>32.000000</td>\n",
       "    </tr>\n",
       "    <tr>\n",
       "      <th>25%</th>\n",
       "      <td>14.910000</td>\n",
       "      <td>34.270000</td>\n",
       "      <td>1.380000</td>\n",
       "      <td>4.980000</td>\n",
       "      <td>4.037500</td>\n",
       "      <td>2.470000</td>\n",
       "      <td>0.680000</td>\n",
       "      <td>3.440000</td>\n",
       "      <td>21.950000</td>\n",
       "      <td>57.000000</td>\n",
       "    </tr>\n",
       "    <tr>\n",
       "      <th>50%</th>\n",
       "      <td>22.350000</td>\n",
       "      <td>48.405000</td>\n",
       "      <td>2.050000</td>\n",
       "      <td>7.610000</td>\n",
       "      <td>6.455000</td>\n",
       "      <td>4.020000</td>\n",
       "      <td>0.895000</td>\n",
       "      <td>5.360000</td>\n",
       "      <td>33.480000</td>\n",
       "      <td>68.000000</td>\n",
       "    </tr>\n",
       "    <tr>\n",
       "      <th>75%</th>\n",
       "      <td>36.790000</td>\n",
       "      <td>67.185000</td>\n",
       "      <td>3.250000</td>\n",
       "      <td>12.090000</td>\n",
       "      <td>9.930000</td>\n",
       "      <td>6.355000</td>\n",
       "      <td>1.082500</td>\n",
       "      <td>6.680000</td>\n",
       "      <td>45.880000</td>\n",
       "      <td>89.000000</td>\n",
       "    </tr>\n",
       "    <tr>\n",
       "      <th>max</th>\n",
       "      <td>98.870000</td>\n",
       "      <td>178.240000</td>\n",
       "      <td>31.490000</td>\n",
       "      <td>30.540000</td>\n",
       "      <td>38.700000</td>\n",
       "      <td>26.580000</td>\n",
       "      <td>5.590000</td>\n",
       "      <td>35.330000</td>\n",
       "      <td>97.280000</td>\n",
       "      <td>230.000000</td>\n",
       "    </tr>\n",
       "  </tbody>\n",
       "</table>\n",
       "</div>"
      ],
      "text/plain": [
       "             PM2.5         PM10           NO          NO2          NOx  \\\n",
       "count  1066.000000  1070.000000  1077.000000  1077.000000  1092.000000   \n",
       "mean     28.045901    52.949953     3.461811     9.391291     8.194093   \n",
       "std      17.843642    24.018704     3.658476     6.006485     6.458936   \n",
       "min       2.000000    10.500000     0.480000     1.350000     0.000000   \n",
       "25%      14.910000    34.270000     1.380000     4.980000     4.037500   \n",
       "50%      22.350000    48.405000     2.050000     7.610000     6.455000   \n",
       "75%      36.790000    67.185000     3.250000    12.090000     9.930000   \n",
       "max      98.870000   178.240000    31.490000    30.540000    38.700000   \n",
       "\n",
       "              NH3           CO          SO2           O3          AQI  \n",
       "count  999.000000  1092.000000  1077.000000  1077.000000  1052.000000  \n",
       "mean     5.061902     0.952106     5.662182    34.743315    75.878327  \n",
       "std      3.677780     0.531853     3.971979    17.997789    28.396178  \n",
       "min      1.020000     0.000000     0.410000     2.620000    32.000000  \n",
       "25%      2.470000     0.680000     3.440000    21.950000    57.000000  \n",
       "50%      4.020000     0.895000     5.360000    33.480000    68.000000  \n",
       "75%      6.355000     1.082500     6.680000    45.880000    89.000000  \n",
       "max     26.580000     5.590000    35.330000    97.280000   230.000000  "
      ]
     },
     "execution_count": 10,
     "metadata": {},
     "output_type": "execute_result"
    }
   ],
   "source": [
    "data.describe()"
   ]
  },
  {
   "cell_type": "code",
   "execution_count": 11,
   "id": "280c9c12",
   "metadata": {},
   "outputs": [
    {
     "data": {
      "text/plain": [
       "City       0\n",
       "Date       0\n",
       "PM2.5     39\n",
       "PM10      35\n",
       "NO        28\n",
       "NO2       28\n",
       "NOx       13\n",
       "NH3      106\n",
       "CO        13\n",
       "SO2       28\n",
       "O3        28\n",
       "AQI       53\n",
       "dtype: int64"
      ]
     },
     "execution_count": 11,
     "metadata": {},
     "output_type": "execute_result"
    }
   ],
   "source": [
    "#checking for null values\n",
    "data.isnull().sum()"
   ]
  },
  {
   "cell_type": "markdown",
   "id": "b582eedd",
   "metadata": {},
   "source": [
    "removing null values"
   ]
  },
  {
   "cell_type": "code",
   "execution_count": 14,
   "id": "a3b2ccfb",
   "metadata": {},
   "outputs": [],
   "source": [
    "#removing null values\n",
    "data['PM2.5'].fillna(data['PM2.5'].mean(),inplace=True)"
   ]
  },
  {
   "cell_type": "code",
   "execution_count": 15,
   "id": "6c35ee6a",
   "metadata": {},
   "outputs": [],
   "source": [
    "data['PM10'].fillna(data['PM10'].mean(),inplace=True)"
   ]
  },
  {
   "cell_type": "code",
   "execution_count": 16,
   "id": "c9bd9d71",
   "metadata": {},
   "outputs": [],
   "source": [
    "data['NO'].fillna(data['NO'].mean(),inplace=True)"
   ]
  },
  {
   "cell_type": "code",
   "execution_count": 17,
   "id": "38681801",
   "metadata": {},
   "outputs": [],
   "source": [
    "data['NO2'].fillna(data['NO2'].mean(),inplace=True)"
   ]
  },
  {
   "cell_type": "code",
   "execution_count": 18,
   "id": "df1a3c90",
   "metadata": {},
   "outputs": [],
   "source": [
    "data['NOx'].fillna(data['NOx'].mean(),inplace=True)"
   ]
  },
  {
   "cell_type": "code",
   "execution_count": 19,
   "id": "ee1f7abc",
   "metadata": {},
   "outputs": [],
   "source": [
    "data['NH3'].fillna(data['NH3'].mean(),inplace=True)"
   ]
  },
  {
   "cell_type": "code",
   "execution_count": 20,
   "id": "86a62c1d",
   "metadata": {},
   "outputs": [],
   "source": [
    "data['CO'].fillna(data['CO'].mean(),inplace=True)"
   ]
  },
  {
   "cell_type": "code",
   "execution_count": 21,
   "id": "64c20daa",
   "metadata": {},
   "outputs": [],
   "source": [
    "data['SO2'].fillna(data['SO2'].mean(),inplace=True)"
   ]
  },
  {
   "cell_type": "code",
   "execution_count": 22,
   "id": "caedb3cf",
   "metadata": {},
   "outputs": [],
   "source": [
    "data['O3'].fillna(data['O3'].mean(),inplace=True)"
   ]
  },
  {
   "cell_type": "code",
   "execution_count": 23,
   "id": "584437ba",
   "metadata": {},
   "outputs": [],
   "source": [
    "data['AQI'].fillna(data['AQI'].mean(),inplace=True)"
   ]
  },
  {
   "cell_type": "code",
   "execution_count": 24,
   "id": "13fa6f12",
   "metadata": {},
   "outputs": [
    {
     "data": {
      "text/html": [
       "<div>\n",
       "<style scoped>\n",
       "    .dataframe tbody tr th:only-of-type {\n",
       "        vertical-align: middle;\n",
       "    }\n",
       "\n",
       "    .dataframe tbody tr th {\n",
       "        vertical-align: top;\n",
       "    }\n",
       "\n",
       "    .dataframe thead th {\n",
       "        text-align: right;\n",
       "    }\n",
       "</style>\n",
       "<table border=\"1\" class=\"dataframe\">\n",
       "  <thead>\n",
       "    <tr style=\"text-align: right;\">\n",
       "      <th></th>\n",
       "      <th>PM2.5</th>\n",
       "      <th>PM10</th>\n",
       "      <th>NO</th>\n",
       "      <th>NO2</th>\n",
       "      <th>NOx</th>\n",
       "      <th>NH3</th>\n",
       "      <th>CO</th>\n",
       "      <th>SO2</th>\n",
       "      <th>O3</th>\n",
       "      <th>AQI</th>\n",
       "    </tr>\n",
       "  </thead>\n",
       "  <tbody>\n",
       "    <tr>\n",
       "      <th>count</th>\n",
       "      <td>1105.000000</td>\n",
       "      <td>1105.000000</td>\n",
       "      <td>1105.000000</td>\n",
       "      <td>1105.000000</td>\n",
       "      <td>1105.000000</td>\n",
       "      <td>1105.000000</td>\n",
       "      <td>1105.000000</td>\n",
       "      <td>1105.000000</td>\n",
       "      <td>1105.000000</td>\n",
       "      <td>1105.000000</td>\n",
       "    </tr>\n",
       "    <tr>\n",
       "      <th>mean</th>\n",
       "      <td>28.045901</td>\n",
       "      <td>52.949953</td>\n",
       "      <td>3.461811</td>\n",
       "      <td>9.391291</td>\n",
       "      <td>8.194093</td>\n",
       "      <td>5.061902</td>\n",
       "      <td>0.952106</td>\n",
       "      <td>5.662182</td>\n",
       "      <td>34.743315</td>\n",
       "      <td>75.878327</td>\n",
       "    </tr>\n",
       "    <tr>\n",
       "      <th>std</th>\n",
       "      <td>17.525636</td>\n",
       "      <td>23.634906</td>\n",
       "      <td>3.611784</td>\n",
       "      <td>5.929826</td>\n",
       "      <td>6.420795</td>\n",
       "      <td>3.496766</td>\n",
       "      <td>0.528713</td>\n",
       "      <td>3.921287</td>\n",
       "      <td>17.768090</td>\n",
       "      <td>27.706184</td>\n",
       "    </tr>\n",
       "    <tr>\n",
       "      <th>min</th>\n",
       "      <td>2.000000</td>\n",
       "      <td>10.500000</td>\n",
       "      <td>0.480000</td>\n",
       "      <td>1.350000</td>\n",
       "      <td>0.000000</td>\n",
       "      <td>1.020000</td>\n",
       "      <td>0.000000</td>\n",
       "      <td>0.410000</td>\n",
       "      <td>2.620000</td>\n",
       "      <td>32.000000</td>\n",
       "    </tr>\n",
       "    <tr>\n",
       "      <th>25%</th>\n",
       "      <td>15.100000</td>\n",
       "      <td>34.610000</td>\n",
       "      <td>1.440000</td>\n",
       "      <td>5.040000</td>\n",
       "      <td>4.050000</td>\n",
       "      <td>2.590000</td>\n",
       "      <td>0.690000</td>\n",
       "      <td>3.490000</td>\n",
       "      <td>22.350000</td>\n",
       "      <td>57.000000</td>\n",
       "    </tr>\n",
       "    <tr>\n",
       "      <th>50%</th>\n",
       "      <td>23.190000</td>\n",
       "      <td>49.140000</td>\n",
       "      <td>2.110000</td>\n",
       "      <td>7.850000</td>\n",
       "      <td>6.500000</td>\n",
       "      <td>4.470000</td>\n",
       "      <td>0.900000</td>\n",
       "      <td>5.430000</td>\n",
       "      <td>34.090000</td>\n",
       "      <td>69.000000</td>\n",
       "    </tr>\n",
       "    <tr>\n",
       "      <th>75%</th>\n",
       "      <td>36.230000</td>\n",
       "      <td>65.950000</td>\n",
       "      <td>3.461811</td>\n",
       "      <td>11.870000</td>\n",
       "      <td>9.850000</td>\n",
       "      <td>6.060000</td>\n",
       "      <td>1.080000</td>\n",
       "      <td>6.640000</td>\n",
       "      <td>45.510000</td>\n",
       "      <td>87.000000</td>\n",
       "    </tr>\n",
       "    <tr>\n",
       "      <th>max</th>\n",
       "      <td>98.870000</td>\n",
       "      <td>178.240000</td>\n",
       "      <td>31.490000</td>\n",
       "      <td>30.540000</td>\n",
       "      <td>38.700000</td>\n",
       "      <td>26.580000</td>\n",
       "      <td>5.590000</td>\n",
       "      <td>35.330000</td>\n",
       "      <td>97.280000</td>\n",
       "      <td>230.000000</td>\n",
       "    </tr>\n",
       "  </tbody>\n",
       "</table>\n",
       "</div>"
      ],
      "text/plain": [
       "             PM2.5         PM10           NO          NO2          NOx  \\\n",
       "count  1105.000000  1105.000000  1105.000000  1105.000000  1105.000000   \n",
       "mean     28.045901    52.949953     3.461811     9.391291     8.194093   \n",
       "std      17.525636    23.634906     3.611784     5.929826     6.420795   \n",
       "min       2.000000    10.500000     0.480000     1.350000     0.000000   \n",
       "25%      15.100000    34.610000     1.440000     5.040000     4.050000   \n",
       "50%      23.190000    49.140000     2.110000     7.850000     6.500000   \n",
       "75%      36.230000    65.950000     3.461811    11.870000     9.850000   \n",
       "max      98.870000   178.240000    31.490000    30.540000    38.700000   \n",
       "\n",
       "               NH3           CO          SO2           O3          AQI  \n",
       "count  1105.000000  1105.000000  1105.000000  1105.000000  1105.000000  \n",
       "mean      5.061902     0.952106     5.662182    34.743315    75.878327  \n",
       "std       3.496766     0.528713     3.921287    17.768090    27.706184  \n",
       "min       1.020000     0.000000     0.410000     2.620000    32.000000  \n",
       "25%       2.590000     0.690000     3.490000    22.350000    57.000000  \n",
       "50%       4.470000     0.900000     5.430000    34.090000    69.000000  \n",
       "75%       6.060000     1.080000     6.640000    45.510000    87.000000  \n",
       "max      26.580000     5.590000    35.330000    97.280000   230.000000  "
      ]
     },
     "execution_count": 24,
     "metadata": {},
     "output_type": "execute_result"
    }
   ],
   "source": [
    "data.describe()"
   ]
  },
  {
   "cell_type": "code",
   "execution_count": 25,
   "id": "6a28eba5",
   "metadata": {},
   "outputs": [
    {
     "data": {
      "text/plain": [
       "City     0\n",
       "Date     0\n",
       "PM2.5    0\n",
       "PM10     0\n",
       "NO       0\n",
       "NO2      0\n",
       "NOx      0\n",
       "NH3      0\n",
       "CO       0\n",
       "SO2      0\n",
       "O3       0\n",
       "AQI      0\n",
       "dtype: int64"
      ]
     },
     "execution_count": 25,
     "metadata": {},
     "output_type": "execute_result"
    }
   ],
   "source": [
    "data.isnull().sum()"
   ]
  },
  {
   "cell_type": "code",
   "execution_count": 26,
   "id": "3dd357c9",
   "metadata": {},
   "outputs": [
    {
     "name": "stdout",
     "output_type": "stream",
     "text": [
      "<class 'pandas.core.frame.DataFrame'>\n",
      "RangeIndex: 1105 entries, 0 to 1104\n",
      "Data columns (total 12 columns):\n",
      " #   Column  Non-Null Count  Dtype         \n",
      "---  ------  --------------  -----         \n",
      " 0   City    1105 non-null   object        \n",
      " 1   Date    1105 non-null   datetime64[ns]\n",
      " 2   PM2.5   1105 non-null   float64       \n",
      " 3   PM10    1105 non-null   float64       \n",
      " 4   NO      1105 non-null   float64       \n",
      " 5   NO2     1105 non-null   float64       \n",
      " 6   NOx     1105 non-null   float64       \n",
      " 7   NH3     1105 non-null   float64       \n",
      " 8   CO      1105 non-null   float64       \n",
      " 9   SO2     1105 non-null   float64       \n",
      " 10  O3      1105 non-null   float64       \n",
      " 11  AQI     1105 non-null   float64       \n",
      "dtypes: datetime64[ns](1), float64(10), object(1)\n",
      "memory usage: 103.7+ KB\n"
     ]
    }
   ],
   "source": [
    "data.info()"
   ]
  },
  {
   "cell_type": "code",
   "execution_count": 35,
   "id": "0dce84e2",
   "metadata": {},
   "outputs": [
    {
     "data": {
      "text/plain": [
       "0"
      ]
     },
     "execution_count": 35,
     "metadata": {},
     "output_type": "execute_result"
    }
   ],
   "source": [
    "#checking for duplicates\n",
    "data.duplicated().sum()"
   ]
  },
  {
   "cell_type": "code",
   "execution_count": 36,
   "id": "20bede71",
   "metadata": {},
   "outputs": [],
   "source": [
    "#CREATING DATAFRAME\n",
    "df=pd.DataFrame()"
   ]
  },
  {
   "cell_type": "code",
   "execution_count": 38,
   "id": "b4852ec8",
   "metadata": {},
   "outputs": [],
   "source": [
    "df['Date']=data['Date']"
   ]
  },
  {
   "cell_type": "code",
   "execution_count": 39,
   "id": "2c831500",
   "metadata": {},
   "outputs": [],
   "source": [
    "df['AQI']=data['AQI']"
   ]
  },
  {
   "cell_type": "code",
   "execution_count": 40,
   "id": "b8cfe732",
   "metadata": {},
   "outputs": [
    {
     "data": {
      "text/html": [
       "<div>\n",
       "<style scoped>\n",
       "    .dataframe tbody tr th:only-of-type {\n",
       "        vertical-align: middle;\n",
       "    }\n",
       "\n",
       "    .dataframe tbody tr th {\n",
       "        vertical-align: top;\n",
       "    }\n",
       "\n",
       "    .dataframe thead th {\n",
       "        text-align: right;\n",
       "    }\n",
       "</style>\n",
       "<table border=\"1\" class=\"dataframe\">\n",
       "  <thead>\n",
       "    <tr style=\"text-align: right;\">\n",
       "      <th></th>\n",
       "      <th>Date</th>\n",
       "      <th>AQI</th>\n",
       "    </tr>\n",
       "  </thead>\n",
       "  <tbody>\n",
       "    <tr>\n",
       "      <th>0</th>\n",
       "      <td>2017-06-23</td>\n",
       "      <td>47.0</td>\n",
       "    </tr>\n",
       "    <tr>\n",
       "      <th>1</th>\n",
       "      <td>2017-06-24</td>\n",
       "      <td>44.0</td>\n",
       "    </tr>\n",
       "    <tr>\n",
       "      <th>2</th>\n",
       "      <td>2017-06-25</td>\n",
       "      <td>38.0</td>\n",
       "    </tr>\n",
       "    <tr>\n",
       "      <th>3</th>\n",
       "      <td>2017-06-26</td>\n",
       "      <td>37.0</td>\n",
       "    </tr>\n",
       "    <tr>\n",
       "      <th>4</th>\n",
       "      <td>2017-06-27</td>\n",
       "      <td>46.0</td>\n",
       "    </tr>\n",
       "    <tr>\n",
       "      <th>...</th>\n",
       "      <td>...</td>\n",
       "      <td>...</td>\n",
       "    </tr>\n",
       "    <tr>\n",
       "      <th>1100</th>\n",
       "      <td>2020-06-27</td>\n",
       "      <td>42.0</td>\n",
       "    </tr>\n",
       "    <tr>\n",
       "      <th>1101</th>\n",
       "      <td>2020-06-28</td>\n",
       "      <td>43.0</td>\n",
       "    </tr>\n",
       "    <tr>\n",
       "      <th>1102</th>\n",
       "      <td>2020-06-29</td>\n",
       "      <td>49.0</td>\n",
       "    </tr>\n",
       "    <tr>\n",
       "      <th>1103</th>\n",
       "      <td>2020-06-30</td>\n",
       "      <td>40.0</td>\n",
       "    </tr>\n",
       "    <tr>\n",
       "      <th>1104</th>\n",
       "      <td>2020-07-01</td>\n",
       "      <td>41.0</td>\n",
       "    </tr>\n",
       "  </tbody>\n",
       "</table>\n",
       "<p>1105 rows × 2 columns</p>\n",
       "</div>"
      ],
      "text/plain": [
       "           Date   AQI\n",
       "0    2017-06-23  47.0\n",
       "1    2017-06-24  44.0\n",
       "2    2017-06-25  38.0\n",
       "3    2017-06-26  37.0\n",
       "4    2017-06-27  46.0\n",
       "...         ...   ...\n",
       "1100 2020-06-27  42.0\n",
       "1101 2020-06-28  43.0\n",
       "1102 2020-06-29  49.0\n",
       "1103 2020-06-30  40.0\n",
       "1104 2020-07-01  41.0\n",
       "\n",
       "[1105 rows x 2 columns]"
      ]
     },
     "execution_count": 40,
     "metadata": {},
     "output_type": "execute_result"
    }
   ],
   "source": [
    "df"
   ]
  },
  {
   "cell_type": "code",
   "execution_count": 41,
   "id": "c6e5da8d",
   "metadata": {},
   "outputs": [],
   "source": [
    "d1=df.set_index('Date')"
   ]
  },
  {
   "cell_type": "code",
   "execution_count": 42,
   "id": "70877647",
   "metadata": {},
   "outputs": [],
   "source": [
    "from statsmodels.tsa.seasonal import seasonal_decompose"
   ]
  },
  {
   "cell_type": "code",
   "execution_count": 43,
   "id": "890e80a3",
   "metadata": {},
   "outputs": [],
   "source": [
    "result=seasonal_decompose(d1,model='multiplicative')"
   ]
  },
  {
   "cell_type": "code",
   "execution_count": 45,
   "id": "1f95ef27",
   "metadata": {},
   "outputs": [
    {
     "data": {
      "image/png": "[encoded data removed]",
      "text/plain": [
       "<Figure size 432x288 with 4 Axes>"
      ]
     },
     "execution_count": 45,
     "metadata": {},
     "output_type": "execute_result"
    },
    {
     "data": {
      "image/png": "[encoded data removed]",
      "text/plain": [
       "<Figure size 432x288 with 4 Axes>"
      ]
     },
     "metadata": {
      "needs_background": "light"
     },
     "output_type": "display_data"
    }
   ],
   "source": [
    "result.plot()"
   ]
  },
  {
   "cell_type": "code",
   "execution_count": 46,
   "id": "78a8549e",
   "metadata": {},
   "outputs": [],
   "source": [
    "from statsmodels.tsa.stattools import adfuller"
   ]
  },
  {
   "cell_type": "code",
   "execution_count": 49,
   "id": "3baef54c",
   "metadata": {},
   "outputs": [],
   "source": [
    "addsvalue=adfuller(d1['AQI'])"
   ]
  },
  {
   "cell_type": "code",
   "execution_count": 50,
   "id": "6da35321",
   "metadata": {},
   "outputs": [
    {
     "name": "stdout",
     "output_type": "stream",
     "text": [
      "average test statistic is:  -3.091400412306325\n"
     ]
    }
   ],
   "source": [
    "print('average test statistic is: ',addsvalue[0])"
   ]
  },
  {
   "cell_type": "code",
   "execution_count": 52,
   "id": "dc189667",
   "metadata": {},
   "outputs": [
    {
     "name": "stdout",
     "output_type": "stream",
     "text": [
      "p_value :  0.02719617682278613\n"
     ]
    }
   ],
   "source": [
    "print('p_value : ',addsvalue[1])"
   ]
  },
  {
   "cell_type": "code",
   "execution_count": 53,
   "id": "2462b5db",
   "metadata": {},
   "outputs": [
    {
     "data": {
      "text/plain": [
       "<AxesSubplot:>"
      ]
     },
     "execution_count": 53,
     "metadata": {},
     "output_type": "execute_result"
    },
    {
     "data": {
      "image/png": "[encoded data removed]",
      "text/plain": [
       "<Figure size 864x576 with 1 Axes>"
      ]
     },
     "metadata": {
      "needs_background": "light"
     },
     "output_type": "display_data"
    }
   ],
   "source": [
    "data.plot(figsize=(12,8))"
   ]
  },
  {
   "cell_type": "code",
   "execution_count": 54,
   "id": "cbae7a84",
   "metadata": {},
   "outputs": [
    {
     "data": {
      "text/plain": [
       "<AxesSubplot:>"
      ]
     },
     "execution_count": 54,
     "metadata": {},
     "output_type": "execute_result"
    },
    {
     "data": {
      "image/png": "[encoded data removed]",
      "text/plain": [
       "<Figure size 864x576 with 1 Axes>"
      ]
     },
     "metadata": {
      "needs_background": "light"
     },
     "output_type": "display_data"
    }
   ],
   "source": [
    "df.plot(figsize=(12,8))"
   ]
  },
  {
   "cell_type": "markdown",
   "id": "a1dfd98e",
   "metadata": {},
   "source": [
    "splitting into train and test data"
   ]
  },
  {
   "cell_type": "code",
   "execution_count": 72,
   "id": "cc446127",
   "metadata": {},
   "outputs": [
    {
     "data": {
      "text/plain": [
       "1087"
      ]
     },
     "execution_count": 72,
     "metadata": {},
     "output_type": "execute_result"
    }
   ],
   "source": [
    "len(d1)\n",
    "len(d1) - 18    # 1.5 year\n",
    "test_size = 18\n",
    "test_index = len(df) - test_size\n",
    "test_index"
   ]
  },
  {
   "cell_type": "code",
   "execution_count": 73,
   "id": "9492dcec",
   "metadata": {},
   "outputs": [],
   "source": [
    "train = d1[:856]\n",
    "test = d1[856:]"
   ]
  },
  {
   "cell_type": "code",
   "execution_count": 74,
   "id": "6fc41bb3",
   "metadata": {},
   "outputs": [
    {
     "data": {
      "text/html": [
       "<div>\n",
       "<style scoped>\n",
       "    .dataframe tbody tr th:only-of-type {\n",
       "        vertical-align: middle;\n",
       "    }\n",
       "\n",
       "    .dataframe tbody tr th {\n",
       "        vertical-align: top;\n",
       "    }\n",
       "\n",
       "    .dataframe thead th {\n",
       "        text-align: right;\n",
       "    }\n",
       "</style>\n",
       "<table border=\"1\" class=\"dataframe\">\n",
       "  <thead>\n",
       "    <tr style=\"text-align: right;\">\n",
       "      <th></th>\n",
       "      <th>AQI</th>\n",
       "    </tr>\n",
       "    <tr>\n",
       "      <th>Date</th>\n",
       "      <th></th>\n",
       "    </tr>\n",
       "  </thead>\n",
       "  <tbody>\n",
       "    <tr>\n",
       "      <th>2017-06-23</th>\n",
       "      <td>47.0</td>\n",
       "    </tr>\n",
       "    <tr>\n",
       "      <th>2017-06-24</th>\n",
       "      <td>44.0</td>\n",
       "    </tr>\n",
       "    <tr>\n",
       "      <th>2017-06-25</th>\n",
       "      <td>38.0</td>\n",
       "    </tr>\n",
       "    <tr>\n",
       "      <th>2017-06-26</th>\n",
       "      <td>37.0</td>\n",
       "    </tr>\n",
       "    <tr>\n",
       "      <th>2017-06-27</th>\n",
       "      <td>46.0</td>\n",
       "    </tr>\n",
       "  </tbody>\n",
       "</table>\n",
       "</div>"
      ],
      "text/plain": [
       "             AQI\n",
       "Date            \n",
       "2017-06-23  47.0\n",
       "2017-06-24  44.0\n",
       "2017-06-25  38.0\n",
       "2017-06-26  37.0\n",
       "2017-06-27  46.0"
      ]
     },
     "execution_count": 74,
     "metadata": {},
     "output_type": "execute_result"
    }
   ],
   "source": [
    "train.head()"
   ]
  },
  {
   "cell_type": "code",
   "execution_count": 75,
   "id": "811eb6d3",
   "metadata": {},
   "outputs": [
    {
     "data": {
      "text/html": [
       "<div>\n",
       "<style scoped>\n",
       "    .dataframe tbody tr th:only-of-type {\n",
       "        vertical-align: middle;\n",
       "    }\n",
       "\n",
       "    .dataframe tbody tr th {\n",
       "        vertical-align: top;\n",
       "    }\n",
       "\n",
       "    .dataframe thead th {\n",
       "        text-align: right;\n",
       "    }\n",
       "</style>\n",
       "<table border=\"1\" class=\"dataframe\">\n",
       "  <thead>\n",
       "    <tr style=\"text-align: right;\">\n",
       "      <th></th>\n",
       "      <th>AQI</th>\n",
       "    </tr>\n",
       "    <tr>\n",
       "      <th>Date</th>\n",
       "      <th></th>\n",
       "    </tr>\n",
       "  </thead>\n",
       "  <tbody>\n",
       "    <tr>\n",
       "      <th>2019-10-27</th>\n",
       "      <td>63.0</td>\n",
       "    </tr>\n",
       "    <tr>\n",
       "      <th>2019-10-28</th>\n",
       "      <td>69.0</td>\n",
       "    </tr>\n",
       "    <tr>\n",
       "      <th>2019-10-29</th>\n",
       "      <td>77.0</td>\n",
       "    </tr>\n",
       "    <tr>\n",
       "      <th>2019-10-30</th>\n",
       "      <td>68.0</td>\n",
       "    </tr>\n",
       "    <tr>\n",
       "      <th>2019-10-31</th>\n",
       "      <td>61.0</td>\n",
       "    </tr>\n",
       "  </tbody>\n",
       "</table>\n",
       "</div>"
      ],
      "text/plain": [
       "             AQI\n",
       "Date            \n",
       "2019-10-27  63.0\n",
       "2019-10-28  69.0\n",
       "2019-10-29  77.0\n",
       "2019-10-30  68.0\n",
       "2019-10-31  61.0"
      ]
     },
     "execution_count": 75,
     "metadata": {},
     "output_type": "execute_result"
    }
   ],
   "source": [
    "test.head()"
   ]
  },
  {
   "cell_type": "markdown",
   "id": "52b38f25",
   "metadata": {},
   "source": [
    "min_max scaler"
   ]
  },
  {
   "cell_type": "code",
   "execution_count": 76,
   "id": "9ccbae07",
   "metadata": {},
   "outputs": [],
   "source": [
    "scaler = MinMaxScaler()\n",
    "scaled_train = scaler.fit_transform(train)\n",
    "scaled_test = scaler.transform(test)"
   ]
  },
  {
   "cell_type": "code",
   "execution_count": 77,
   "id": "00df0d23",
   "metadata": {},
   "outputs": [
    {
     "data": {
      "text/plain": [
       "array([[0.05670103],\n",
       "       [0.04123711],\n",
       "       [0.01030928],\n",
       "       [0.00515464],\n",
       "       [0.05154639]])"
      ]
     },
     "execution_count": 77,
     "metadata": {},
     "output_type": "execute_result"
    }
   ],
   "source": [
    "scaled_train[:5]"
   ]
  },
  {
   "cell_type": "code",
   "execution_count": 84,
   "id": "6fcda3e8",
   "metadata": {},
   "outputs": [
    {
     "name": "stdout",
     "output_type": "stream",
     "text": [
      "Requirement already satisfied: tensorflow in c:\\users\\student\\anaconda3\\lib\\site-packages (2.11.0)\n",
      "Requirement already satisfied: tensorflow-intel==2.11.0 in c:\\users\\student\\anaconda3\\lib\\site-packages (from tensorflow) (2.11.0)\n",
      "Requirement already satisfied: h5py>=2.9.0 in c:\\users\\student\\anaconda3\\lib\\site-packages (from tensorflow-intel==2.11.0->tensorflow) (3.2.1)\n",
      "Requirement already satisfied: numpy>=1.20 in c:\\users\\student\\anaconda3\\lib\\site-packages (from tensorflow-intel==2.11.0->tensorflow) (1.20.3)\n",
      "Requirement already satisfied: protobuf<3.20,>=3.9.2 in c:\\users\\student\\anaconda3\\lib\\site-packages (from tensorflow-intel==2.11.0->tensorflow) (3.19.6)\n",
      "Requirement already satisfied: packaging in c:\\users\\student\\anaconda3\\lib\\site-packages (from tensorflow-intel==2.11.0->tensorflow) (21.0)\n",
      "Requirement already satisfied: wrapt>=1.11.0 in c:\\users\\student\\anaconda3\\lib\\site-packages (from tensorflow-intel==2.11.0->tensorflow) (1.12.1)\n",
      "Requirement already satisfied: termcolor>=1.1.0 in c:\\users\\student\\anaconda3\\lib\\site-packages (from tensorflow-intel==2.11.0->tensorflow) (2.2.0)\n",
      "Requirement already satisfied: gast<=0.4.0,>=0.2.1 in c:\\users\\student\\anaconda3\\lib\\site-packages (from tensorflow-intel==2.11.0->tensorflow) (0.4.0)\n",
      "Requirement already satisfied: tensorboard<2.12,>=2.11 in c:\\users\\student\\anaconda3\\lib\\site-packages (from tensorflow-intel==2.11.0->tensorflow) (2.11.2)\n",
      "Requirement already satisfied: opt-einsum>=2.3.2 in c:\\users\\student\\anaconda3\\lib\\site-packages (from tensorflow-intel==2.11.0->tensorflow) (3.3.0)\n",
      "Requirement already satisfied: grpcio<2.0,>=1.24.3 in c:\\users\\student\\anaconda3\\lib\\site-packages (from tensorflow-intel==2.11.0->tensorflow) (1.51.1)\n",
      "Requirement already satisfied: astunparse>=1.6.0 in c:\\users\\student\\anaconda3\\lib\\site-packages (from tensorflow-intel==2.11.0->tensorflow) (1.6.3)\n",
      "Requirement already satisfied: tensorflow-estimator<2.12,>=2.11.0 in c:\\users\\student\\anaconda3\\lib\\site-packages (from tensorflow-intel==2.11.0->tensorflow) (2.11.0)\n",
      "Requirement already satisfied: absl-py>=1.0.0 in c:\\users\\student\\anaconda3\\lib\\site-packages (from tensorflow-intel==2.11.0->tensorflow) (1.4.0)\n",
      "Requirement already satisfied: tensorflow-io-gcs-filesystem>=0.23.1 in c:\\users\\student\\anaconda3\\lib\\site-packages (from tensorflow-intel==2.11.0->tensorflow) (0.30.0)\n",
      "Requirement already satisfied: keras<2.12,>=2.11.0 in c:\\users\\student\\anaconda3\\lib\\site-packages (from tensorflow-intel==2.11.0->tensorflow) (2.11.0)\n",
      "Requirement already satisfied: six>=1.12.0 in c:\\users\\student\\anaconda3\\lib\\site-packages (from tensorflow-intel==2.11.0->tensorflow) (1.16.0)\n",
      "Requirement already satisfied: flatbuffers>=2.0 in c:\\users\\student\\anaconda3\\lib\\site-packages (from tensorflow-intel==2.11.0->tensorflow) (23.1.21)\n",
      "Requirement already satisfied: setuptools in c:\\users\\student\\anaconda3\\lib\\site-packages (from tensorflow-intel==2.11.0->tensorflow) (58.0.4)\n",
      "Requirement already satisfied: libclang>=13.0.0 in c:\\users\\student\\anaconda3\\lib\\site-packages (from tensorflow-intel==2.11.0->tensorflow) (15.0.6.1)\n",
      "Requirement already satisfied: typing-extensions>=3.6.6 in c:\\users\\student\\anaconda3\\lib\\site-packages (from tensorflow-intel==2.11.0->tensorflow) (3.10.0.2)\n",
      "Requirement already satisfied: google-pasta>=0.1.1 in c:\\users\\student\\anaconda3\\lib\\site-packages (from tensorflow-intel==2.11.0->tensorflow) (0.2.0)\n",
      "Requirement already satisfied: wheel<1.0,>=0.23.0 in c:\\users\\student\\anaconda3\\lib\\site-packages (from astunparse>=1.6.0->tensorflow-intel==2.11.0->tensorflow) (0.37.0)\n",
      "Requirement already satisfied: requests<3,>=2.21.0 in c:\\users\\student\\anaconda3\\lib\\site-packages (from tensorboard<2.12,>=2.11->tensorflow-intel==2.11.0->tensorflow) (2.26.0)\n",
      "Requirement already satisfied: tensorboard-plugin-wit>=1.6.0 in c:\\users\\student\\anaconda3\\lib\\site-packages (from tensorboard<2.12,>=2.11->tensorflow-intel==2.11.0->tensorflow) (1.8.1)\n",
      "Requirement already satisfied: markdown>=2.6.8 in c:\\users\\student\\anaconda3\\lib\\site-packages (from tensorboard<2.12,>=2.11->tensorflow-intel==2.11.0->tensorflow) (3.4.1)\n",
      "Requirement already satisfied: google-auth<3,>=1.6.3 in c:\\users\\student\\anaconda3\\lib\\site-packages (from tensorboard<2.12,>=2.11->tensorflow-intel==2.11.0->tensorflow) (2.16.0)\n",
      "Requirement already satisfied: google-auth-oauthlib<0.5,>=0.4.1 in c:\\users\\student\\anaconda3\\lib\\site-packages (from tensorboard<2.12,>=2.11->tensorflow-intel==2.11.0->tensorflow) (0.4.6)\n",
      "Requirement already satisfied: werkzeug>=1.0.1 in c:\\users\\student\\anaconda3\\lib\\site-packages (from tensorboard<2.12,>=2.11->tensorflow-intel==2.11.0->tensorflow) (2.0.2)\n",
      "Requirement already satisfied: tensorboard-data-server<0.7.0,>=0.6.0 in c:\\users\\student\\anaconda3\\lib\\site-packages (from tensorboard<2.12,>=2.11->tensorflow-intel==2.11.0->tensorflow) (0.6.1)\n",
      "Requirement already satisfied: cachetools<6.0,>=2.0.0 in c:\\users\\student\\anaconda3\\lib\\site-packages (from google-auth<3,>=1.6.3->tensorboard<2.12,>=2.11->tensorflow-intel==2.11.0->tensorflow) (5.3.0)\n",
      "Requirement already satisfied: rsa<5,>=3.1.4 in c:\\users\\student\\anaconda3\\lib\\site-packages (from google-auth<3,>=1.6.3->tensorboard<2.12,>=2.11->tensorflow-intel==2.11.0->tensorflow) (4.9)\n",
      "Requirement already satisfied: pyasn1-modules>=0.2.1 in c:\\users\\student\\anaconda3\\lib\\site-packages (from google-auth<3,>=1.6.3->tensorboard<2.12,>=2.11->tensorflow-intel==2.11.0->tensorflow) (0.2.8)\n",
      "Requirement already satisfied: requests-oauthlib>=0.7.0 in c:\\users\\student\\anaconda3\\lib\\site-packages (from google-auth-oauthlib<0.5,>=0.4.1->tensorboard<2.12,>=2.11->tensorflow-intel==2.11.0->tensorflow) (1.3.1)\n",
      "Requirement already satisfied: importlib-metadata>=4.4 in c:\\users\\student\\anaconda3\\lib\\site-packages (from markdown>=2.6.8->tensorboard<2.12,>=2.11->tensorflow-intel==2.11.0->tensorflow) (4.8.1)\n",
      "Requirement already satisfied: zipp>=0.5 in c:\\users\\student\\anaconda3\\lib\\site-packages (from importlib-metadata>=4.4->markdown>=2.6.8->tensorboard<2.12,>=2.11->tensorflow-intel==2.11.0->tensorflow) (3.6.0)\n",
      "Requirement already satisfied: pyasn1<0.5.0,>=0.4.6 in c:\\users\\student\\anaconda3\\lib\\site-packages (from pyasn1-modules>=0.2.1->google-auth<3,>=1.6.3->tensorboard<2.12,>=2.11->tensorflow-intel==2.11.0->tensorflow) (0.4.8)\n",
      "Requirement already satisfied: charset-normalizer~=2.0.0 in c:\\users\\student\\anaconda3\\lib\\site-packages (from requests<3,>=2.21.0->tensorboard<2.12,>=2.11->tensorflow-intel==2.11.0->tensorflow) (2.0.4)\n",
      "Requirement already satisfied: certifi>=2017.4.17 in c:\\users\\student\\anaconda3\\lib\\site-packages (from requests<3,>=2.21.0->tensorboard<2.12,>=2.11->tensorflow-intel==2.11.0->tensorflow) (2021.10.8)\n",
      "Requirement already satisfied: idna<4,>=2.5 in c:\\users\\student\\anaconda3\\lib\\site-packages (from requests<3,>=2.21.0->tensorboard<2.12,>=2.11->tensorflow-intel==2.11.0->tensorflow) (3.2)\n",
      "Requirement already satisfied: urllib3<1.27,>=1.21.1 in c:\\users\\student\\anaconda3\\lib\\site-packages (from requests<3,>=2.21.0->tensorboard<2.12,>=2.11->tensorflow-intel==2.11.0->tensorflow) (1.26.7)\n",
      "Requirement already satisfied: oauthlib>=3.0.0 in c:\\users\\student\\anaconda3\\lib\\site-packages (from requests-oauthlib>=0.7.0->google-auth-oauthlib<0.5,>=0.4.1->tensorboard<2.12,>=2.11->tensorflow-intel==2.11.0->tensorflow) (3.2.2)\n",
      "Requirement already satisfied: pyparsing>=2.0.2 in c:\\users\\student\\anaconda3\\lib\\site-packages (from packaging->tensorflow-intel==2.11.0->tensorflow) (3.0.4)\n",
      "Note: you may need to restart the kernel to use updated packages.\n"
     ]
    }
   ],
   "source": [
    "pip install tensorflow"
   ]
  },
  {
   "cell_type": "code",
   "execution_count": 86,
   "id": "ecf30489",
   "metadata": {},
   "outputs": [],
   "source": [
    "import tensorflow as tf\n",
    "from tensorflow import keras\n",
    "from tensorflow.keras.preprocessing.sequence import TimeseriesGenerator\n",
    "\n",
    "from tensorflow.keras.models import Sequential\n",
    "from tensorflow.keras.layers import Dense, LSTM\n",
    "\n",
    "from tensorflow.keras.callbacks import EarlyStopping"
   ]
  },
  {
   "cell_type": "code",
   "execution_count": 87,
   "id": "1545e49c",
   "metadata": {},
   "outputs": [],
   "source": [
    "length = 12"
   ]
  },
  {
   "cell_type": "code",
   "execution_count": 88,
   "id": "968b2d6e",
   "metadata": {},
   "outputs": [],
   "source": [
    "generator = TimeseriesGenerator(scaled_train, scaled_train, length=length, batch_size=1)"
   ]
  },
  {
   "cell_type": "code",
   "execution_count": 89,
   "id": "e8afb0cf",
   "metadata": {},
   "outputs": [],
   "source": [
    "X, y = generator[0]"
   ]
  },
  {
   "cell_type": "code",
   "execution_count": 90,
   "id": "5587fb82",
   "metadata": {},
   "outputs": [
    {
     "data": {
      "text/plain": [
       "array([[[0.05670103],\n",
       "        [0.04123711],\n",
       "        [0.01030928],\n",
       "        [0.00515464],\n",
       "        [0.05154639],\n",
       "        [0.04639175],\n",
       "        [0.06185567],\n",
       "        [0.04639175],\n",
       "        [0.06701031],\n",
       "        [0.01546392],\n",
       "        [0.01546392],\n",
       "        [0.02061856]]])"
      ]
     },
     "execution_count": 90,
     "metadata": {},
     "output_type": "execute_result"
    }
   ],
   "source": [
    "X"
   ]
  },
  {
   "cell_type": "code",
   "execution_count": 92,
   "id": "78311ccd",
   "metadata": {},
   "outputs": [
    {
     "data": {
      "text/plain": [
       "array([[0.12371134]])"
      ]
     },
     "execution_count": 92,
     "metadata": {},
     "output_type": "execute_result"
    }
   ],
   "source": [
    "y"
   ]
  },
  {
   "cell_type": "code",
   "execution_count": 93,
   "id": "93740a0d",
   "metadata": {},
   "outputs": [
    {
     "data": {
      "text/plain": [
       "12"
      ]
     },
     "execution_count": 93,
     "metadata": {},
     "output_type": "execute_result"
    }
   ],
   "source": [
    "len(X[0])"
   ]
  },
  {
   "cell_type": "code",
   "execution_count": 94,
   "id": "cfaa0821",
   "metadata": {},
   "outputs": [],
   "source": [
    "# LSTM:\n",
    "n_features = 1"
   ]
  },
  {
   "cell_type": "code",
   "execution_count": 95,
   "id": "d0baba63",
   "metadata": {},
   "outputs": [],
   "source": [
    "model = Sequential()\n",
    "model.add(LSTM(100, activation='relu', input_shape=(length, n_features)))\n",
    "model.add(Dense(1))\n",
    "\n",
    "model.compile(optimizer='adam', loss='mse')"
   ]
  },
  {
   "cell_type": "code",
   "execution_count": 96,
   "id": "545ed69b",
   "metadata": {},
   "outputs": [
    {
     "name": "stdout",
     "output_type": "stream",
     "text": [
      "Model: \"sequential\"\n",
      "_________________________________________________________________\n",
      " Layer (type)                Output Shape              Param #   \n",
      "=================================================================\n",
      " lstm (LSTM)                 (None, 100)               40800     \n",
      "                                                                 \n",
      " dense (Dense)               (None, 1)                 101       \n",
      "                                                                 \n",
      "=================================================================\n",
      "Total params: 40,901\n",
      "Trainable params: 40,901\n",
      "Non-trainable params: 0\n",
      "_________________________________________________________________\n"
     ]
    }
   ],
   "source": [
    "model.summary()"
   ]
  },
  {
   "cell_type": "code",
   "execution_count": 97,
   "id": "15ffb6e9",
   "metadata": {},
   "outputs": [],
   "source": [
    "early_stop = EarlyStopping(monitor='val_loss', patience=2)"
   ]
  },
  {
   "cell_type": "code",
   "execution_count": 98,
   "id": "8b449861",
   "metadata": {},
   "outputs": [],
   "source": [
    "validation_generator = TimeseriesGenerator(scaled_test, scaled_test, length=length, batch_size=1)"
   ]
  },
  {
   "cell_type": "code",
   "execution_count": 99,
   "id": "958f212c",
   "metadata": {},
   "outputs": [
    {
     "name": "stdout",
     "output_type": "stream",
     "text": [
      "Epoch 1/20\n",
      "844/844 [==============================] - 3s 3ms/step - loss: 0.0106 - val_loss: 0.0068\n",
      "Epoch 2/20\n",
      "844/844 [==============================] - 2s 3ms/step - loss: 0.0092 - val_loss: 0.0063\n",
      "Epoch 3/20\n",
      "844/844 [==============================] - 2s 3ms/step - loss: 0.0089 - val_loss: 0.0058\n",
      "Epoch 4/20\n",
      "844/844 [==============================] - 2s 2ms/step - loss: 0.0085 - val_loss: 0.0064\n",
      "Epoch 5/20\n",
      "844/844 [==============================] - 2s 2ms/step - loss: 0.0083 - val_loss: 0.0056\n",
      "Epoch 6/20\n",
      "844/844 [==============================] - 2s 2ms/step - loss: 0.0080 - val_loss: 0.0055\n",
      "Epoch 7/20\n",
      "844/844 [==============================] - 2s 3ms/step - loss: 0.0077 - val_loss: 0.0061\n",
      "Epoch 8/20\n",
      "844/844 [==============================] - 2s 2ms/step - loss: 0.0078 - val_loss: 0.0055\n",
      "Epoch 9/20\n",
      "844/844 [==============================] - 2s 3ms/step - loss: 0.0079 - val_loss: 0.0064\n",
      "Epoch 10/20\n",
      "844/844 [==============================] - 2s 3ms/step - loss: 0.0077 - val_loss: 0.0056\n"
     ]
    },
    {
     "data": {
      "text/plain": [
       "<keras.callbacks.History at 0x2391485b220>"
      ]
     },
     "execution_count": 99,
     "metadata": {},
     "output_type": "execute_result"
    }
   ],
   "source": [
    "model.fit(generator, epochs=20, \n",
    "          validation_data=validation_generator,\n",
    "          callbacks=[early_stop])"
   ]
  },
  {
   "cell_type": "code",
   "execution_count": 100,
   "id": "aa9973d6",
   "metadata": {},
   "outputs": [],
   "source": [
    "losses = pd.DataFrame(model.history.history)"
   ]
  },
  {
   "cell_type": "code",
   "execution_count": 101,
   "id": "ae04ee4a",
   "metadata": {},
   "outputs": [
    {
     "data": {
      "text/html": [
       "<div>\n",
       "<style scoped>\n",
       "    .dataframe tbody tr th:only-of-type {\n",
       "        vertical-align: middle;\n",
       "    }\n",
       "\n",
       "    .dataframe tbody tr th {\n",
       "        vertical-align: top;\n",
       "    }\n",
       "\n",
       "    .dataframe thead th {\n",
       "        text-align: right;\n",
       "    }\n",
       "</style>\n",
       "<table border=\"1\" class=\"dataframe\">\n",
       "  <thead>\n",
       "    <tr style=\"text-align: right;\">\n",
       "      <th></th>\n",
       "      <th>loss</th>\n",
       "      <th>val_loss</th>\n",
       "    </tr>\n",
       "  </thead>\n",
       "  <tbody>\n",
       "    <tr>\n",
       "      <th>0</th>\n",
       "      <td>0.010624</td>\n",
       "      <td>0.006757</td>\n",
       "    </tr>\n",
       "    <tr>\n",
       "      <th>1</th>\n",
       "      <td>0.009152</td>\n",
       "      <td>0.006308</td>\n",
       "    </tr>\n",
       "    <tr>\n",
       "      <th>2</th>\n",
       "      <td>0.008868</td>\n",
       "      <td>0.005770</td>\n",
       "    </tr>\n",
       "    <tr>\n",
       "      <th>3</th>\n",
       "      <td>0.008496</td>\n",
       "      <td>0.006378</td>\n",
       "    </tr>\n",
       "    <tr>\n",
       "      <th>4</th>\n",
       "      <td>0.008306</td>\n",
       "      <td>0.005609</td>\n",
       "    </tr>\n",
       "    <tr>\n",
       "      <th>5</th>\n",
       "      <td>0.007958</td>\n",
       "      <td>0.005503</td>\n",
       "    </tr>\n",
       "    <tr>\n",
       "      <th>6</th>\n",
       "      <td>0.007745</td>\n",
       "      <td>0.006054</td>\n",
       "    </tr>\n",
       "    <tr>\n",
       "      <th>7</th>\n",
       "      <td>0.007817</td>\n",
       "      <td>0.005489</td>\n",
       "    </tr>\n",
       "    <tr>\n",
       "      <th>8</th>\n",
       "      <td>0.007863</td>\n",
       "      <td>0.006397</td>\n",
       "    </tr>\n",
       "    <tr>\n",
       "      <th>9</th>\n",
       "      <td>0.007672</td>\n",
       "      <td>0.005562</td>\n",
       "    </tr>\n",
       "  </tbody>\n",
       "</table>\n",
       "</div>"
      ],
      "text/plain": [
       "       loss  val_loss\n",
       "0  0.010624  0.006757\n",
       "1  0.009152  0.006308\n",
       "2  0.008868  0.005770\n",
       "3  0.008496  0.006378\n",
       "4  0.008306  0.005609\n",
       "5  0.007958  0.005503\n",
       "6  0.007745  0.006054\n",
       "7  0.007817  0.005489\n",
       "8  0.007863  0.006397\n",
       "9  0.007672  0.005562"
      ]
     },
     "execution_count": 101,
     "metadata": {},
     "output_type": "execute_result"
    }
   ],
   "source": [
    "losses"
   ]
  },
  {
   "cell_type": "code",
   "execution_count": 102,
   "id": "beaff21a",
   "metadata": {},
   "outputs": [
    {
     "data": {
      "text/plain": [
       "<AxesSubplot:>"
      ]
     },
     "execution_count": 102,
     "metadata": {},
     "output_type": "execute_result"
    },
    {
     "data": {
      "image/png": "[encoded data removed]",
      "text/plain": [
       "<Figure size 432x288 with 1 Axes>"
      ]
     },
     "metadata": {
      "needs_background": "light"
     },
     "output_type": "display_data"
    }
   ],
   "source": [
    "losses.plot()"
   ]
  },
  {
   "cell_type": "code",
   "execution_count": 103,
   "id": "552cb788",
   "metadata": {},
   "outputs": [
    {
     "name": "stdout",
     "output_type": "stream",
     "text": [
      "1/1 [==============================] - 0s 161ms/step\n",
      "1/1 [==============================] - 0s 16ms/step\n",
      "1/1 [==============================] - 0s 17ms/step\n",
      "1/1 [==============================] - 0s 15ms/step\n",
      "1/1 [==============================] - 0s 14ms/step\n",
      "1/1 [==============================] - 0s 16ms/step\n",
      "1/1 [==============================] - 0s 16ms/step\n",
      "1/1 [==============================] - 0s 17ms/step\n",
      "1/1 [==============================] - 0s 15ms/step\n",
      "1/1 [==============================] - 0s 15ms/step\n",
      "1/1 [==============================] - 0s 16ms/step\n",
      "1/1 [==============================] - 0s 16ms/step\n",
      "1/1 [==============================] - 0s 15ms/step\n",
      "1/1 [==============================] - 0s 16ms/step\n",
      "1/1 [==============================] - 0s 15ms/step\n",
      "1/1 [==============================] - 0s 15ms/step\n",
      "1/1 [==============================] - 0s 15ms/step\n",
      "1/1 [==============================] - 0s 16ms/step\n",
      "1/1 [==============================] - 0s 16ms/step\n",
      "1/1 [==============================] - 0s 16ms/step\n",
      "1/1 [==============================] - 0s 15ms/step\n",
      "1/1 [==============================] - 0s 16ms/step\n",
      "1/1 [==============================] - 0s 15ms/step\n",
      "1/1 [==============================] - 0s 15ms/step\n",
      "1/1 [==============================] - 0s 15ms/step\n",
      "1/1 [==============================] - 0s 15ms/step\n",
      "1/1 [==============================] - 0s 15ms/step\n",
      "1/1 [==============================] - 0s 17ms/step\n",
      "1/1 [==============================] - 0s 15ms/step\n",
      "1/1 [==============================] - 0s 15ms/step\n",
      "1/1 [==============================] - 0s 15ms/step\n",
      "1/1 [==============================] - 0s 16ms/step\n",
      "1/1 [==============================] - 0s 15ms/step\n",
      "1/1 [==============================] - 0s 16ms/step\n",
      "1/1 [==============================] - 0s 14ms/step\n",
      "1/1 [==============================] - 0s 15ms/step\n",
      "1/1 [==============================] - 0s 16ms/step\n",
      "1/1 [==============================] - 0s 16ms/step\n",
      "1/1 [==============================] - 0s 18ms/step\n",
      "1/1 [==============================] - 0s 19ms/step\n",
      "1/1 [==============================] - 0s 17ms/step\n",
      "1/1 [==============================] - 0s 16ms/step\n",
      "1/1 [==============================] - 0s 16ms/step\n",
      "1/1 [==============================] - 0s 16ms/step\n",
      "1/1 [==============================] - 0s 17ms/step\n",
      "1/1 [==============================] - 0s 17ms/step\n",
      "1/1 [==============================] - 0s 17ms/step\n",
      "1/1 [==============================] - 0s 17ms/step\n",
      "1/1 [==============================] - 0s 16ms/step\n",
      "1/1 [==============================] - 0s 17ms/step\n",
      "1/1 [==============================] - 0s 16ms/step\n",
      "1/1 [==============================] - 0s 16ms/step\n",
      "1/1 [==============================] - 0s 16ms/step\n",
      "1/1 [==============================] - 0s 17ms/step\n",
      "1/1 [==============================] - 0s 16ms/step\n",
      "1/1 [==============================] - 0s 17ms/step\n",
      "1/1 [==============================] - 0s 17ms/step\n",
      "1/1 [==============================] - 0s 16ms/step\n",
      "1/1 [==============================] - 0s 15ms/step\n",
      "1/1 [==============================] - 0s 14ms/step\n",
      "1/1 [==============================] - 0s 17ms/step\n",
      "1/1 [==============================] - 0s 15ms/step\n",
      "1/1 [==============================] - 0s 17ms/step\n",
      "1/1 [==============================] - 0s 15ms/step\n",
      "1/1 [==============================] - 0s 16ms/step\n",
      "1/1 [==============================] - 0s 15ms/step\n",
      "1/1 [==============================] - 0s 16ms/step\n",
      "1/1 [==============================] - 0s 15ms/step\n",
      "1/1 [==============================] - 0s 16ms/step\n",
      "1/1 [==============================] - 0s 15ms/step\n",
      "1/1 [==============================] - 0s 16ms/step\n",
      "1/1 [==============================] - 0s 15ms/step\n",
      "1/1 [==============================] - 0s 15ms/step\n",
      "1/1 [==============================] - 0s 16ms/step\n",
      "1/1 [==============================] - 0s 15ms/step\n",
      "1/1 [==============================] - 0s 16ms/step\n",
      "1/1 [==============================] - 0s 16ms/step\n",
      "1/1 [==============================] - 0s 17ms/step\n",
      "1/1 [==============================] - 0s 15ms/step\n",
      "1/1 [==============================] - 0s 15ms/step\n",
      "1/1 [==============================] - 0s 17ms/step\n",
      "1/1 [==============================] - 0s 16ms/step\n",
      "1/1 [==============================] - 0s 16ms/step\n",
      "1/1 [==============================] - 0s 15ms/step\n",
      "1/1 [==============================] - 0s 15ms/step\n",
      "1/1 [==============================] - 0s 15ms/step\n",
      "1/1 [==============================] - 0s 14ms/step\n",
      "1/1 [==============================] - 0s 15ms/step\n",
      "1/1 [==============================] - 0s 16ms/step\n",
      "1/1 [==============================] - 0s 15ms/step\n",
      "1/1 [==============================] - 0s 15ms/step\n",
      "1/1 [==============================] - 0s 15ms/step\n",
      "1/1 [==============================] - 0s 16ms/step\n",
      "1/1 [==============================] - 0s 15ms/step\n",
      "1/1 [==============================] - 0s 16ms/step\n",
      "1/1 [==============================] - 0s 16ms/step\n",
      "1/1 [==============================] - 0s 16ms/step\n",
      "1/1 [==============================] - 0s 16ms/step\n",
      "1/1 [==============================] - 0s 16ms/step\n",
      "1/1 [==============================] - 0s 15ms/step\n",
      "1/1 [==============================] - 0s 15ms/step\n",
      "1/1 [==============================] - 0s 16ms/step\n",
      "1/1 [==============================] - 0s 17ms/step\n",
      "1/1 [==============================] - 0s 15ms/step\n",
      "1/1 [==============================] - 0s 14ms/step\n",
      "1/1 [==============================] - 0s 15ms/step\n",
      "1/1 [==============================] - 0s 15ms/step\n",
      "1/1 [==============================] - 0s 16ms/step\n",
      "1/1 [==============================] - 0s 15ms/step\n",
      "1/1 [==============================] - 0s 17ms/step\n",
      "1/1 [==============================] - 0s 16ms/step\n",
      "1/1 [==============================] - 0s 14ms/step\n",
      "1/1 [==============================] - 0s 15ms/step\n",
      "1/1 [==============================] - 0s 15ms/step\n",
      "1/1 [==============================] - 0s 16ms/step\n",
      "1/1 [==============================] - 0s 15ms/step\n",
      "1/1 [==============================] - 0s 15ms/step\n",
      "1/1 [==============================] - 0s 15ms/step\n",
      "1/1 [==============================] - 0s 16ms/step\n",
      "1/1 [==============================] - 0s 15ms/step\n",
      "1/1 [==============================] - 0s 15ms/step\n",
      "1/1 [==============================] - 0s 15ms/step\n",
      "1/1 [==============================] - 0s 15ms/step\n",
      "1/1 [==============================] - 0s 16ms/step\n",
      "1/1 [==============================] - 0s 15ms/step\n",
      "1/1 [==============================] - 0s 16ms/step\n",
      "1/1 [==============================] - 0s 15ms/step\n",
      "1/1 [==============================] - 0s 16ms/step\n",
      "1/1 [==============================] - 0s 16ms/step\n",
      "1/1 [==============================] - 0s 15ms/step\n",
      "1/1 [==============================] - 0s 16ms/step\n",
      "1/1 [==============================] - 0s 16ms/step\n",
      "1/1 [==============================] - 0s 17ms/step\n",
      "1/1 [==============================] - 0s 15ms/step\n",
      "1/1 [==============================] - 0s 16ms/step\n",
      "1/1 [==============================] - 0s 15ms/step\n",
      "1/1 [==============================] - 0s 15ms/step\n",
      "1/1 [==============================] - 0s 16ms/step\n",
      "1/1 [==============================] - 0s 15ms/step\n",
      "1/1 [==============================] - 0s 16ms/step\n",
      "1/1 [==============================] - 0s 15ms/step\n",
      "1/1 [==============================] - 0s 15ms/step\n",
      "1/1 [==============================] - 0s 16ms/step\n",
      "1/1 [==============================] - 0s 15ms/step\n",
      "1/1 [==============================] - 0s 16ms/step\n",
      "1/1 [==============================] - 0s 14ms/step\n",
      "1/1 [==============================] - 0s 15ms/step\n",
      "1/1 [==============================] - 0s 15ms/step\n",
      "1/1 [==============================] - 0s 16ms/step\n",
      "1/1 [==============================] - 0s 16ms/step\n",
      "1/1 [==============================] - 0s 15ms/step\n",
      "1/1 [==============================] - 0s 16ms/step\n",
      "1/1 [==============================] - 0s 15ms/step\n",
      "1/1 [==============================] - 0s 14ms/step\n",
      "1/1 [==============================] - 0s 16ms/step\n",
      "1/1 [==============================] - 0s 15ms/step\n",
      "1/1 [==============================] - 0s 15ms/step\n",
      "1/1 [==============================] - 0s 16ms/step\n",
      "1/1 [==============================] - 0s 17ms/step\n",
      "1/1 [==============================] - 0s 15ms/step\n",
      "1/1 [==============================] - 0s 15ms/step\n",
      "1/1 [==============================] - 0s 15ms/step\n",
      "1/1 [==============================] - 0s 15ms/step\n",
      "1/1 [==============================] - 0s 15ms/step\n",
      "1/1 [==============================] - 0s 15ms/step\n",
      "1/1 [==============================] - 0s 16ms/step\n",
      "1/1 [==============================] - 0s 14ms/step\n",
      "1/1 [==============================] - 0s 14ms/step\n",
      "1/1 [==============================] - 0s 15ms/step\n",
      "1/1 [==============================] - 0s 15ms/step\n",
      "1/1 [==============================] - 0s 15ms/step\n",
      "1/1 [==============================] - 0s 15ms/step\n",
      "1/1 [==============================] - 0s 15ms/step\n",
      "1/1 [==============================] - 0s 14ms/step\n",
      "1/1 [==============================] - 0s 15ms/step\n",
      "1/1 [==============================] - 0s 14ms/step\n",
      "1/1 [==============================] - 0s 15ms/step\n",
      "1/1 [==============================] - 0s 16ms/step\n",
      "1/1 [==============================] - 0s 16ms/step\n",
      "1/1 [==============================] - 0s 16ms/step\n",
      "1/1 [==============================] - 0s 16ms/step\n",
      "1/1 [==============================] - 0s 15ms/step\n",
      "1/1 [==============================] - 0s 16ms/step\n",
      "1/1 [==============================] - 0s 14ms/step\n",
      "1/1 [==============================] - 0s 15ms/step\n",
      "1/1 [==============================] - 0s 14ms/step\n",
      "1/1 [==============================] - 0s 15ms/step\n",
      "1/1 [==============================] - 0s 16ms/step\n",
      "1/1 [==============================] - 0s 15ms/step\n",
      "1/1 [==============================] - 0s 15ms/step\n",
      "1/1 [==============================] - 0s 15ms/step\n",
      "1/1 [==============================] - 0s 16ms/step\n",
      "1/1 [==============================] - 0s 15ms/step\n",
      "1/1 [==============================] - 0s 15ms/step\n",
      "1/1 [==============================] - 0s 15ms/step\n",
      "1/1 [==============================] - 0s 14ms/step\n",
      "1/1 [==============================] - 0s 16ms/step\n",
      "1/1 [==============================] - 0s 15ms/step\n",
      "1/1 [==============================] - 0s 15ms/step\n",
      "1/1 [==============================] - 0s 15ms/step\n",
      "1/1 [==============================] - 0s 15ms/step\n",
      "1/1 [==============================] - 0s 14ms/step\n",
      "1/1 [==============================] - 0s 15ms/step\n",
      "1/1 [==============================] - 0s 14ms/step\n",
      "1/1 [==============================] - 0s 15ms/step\n",
      "1/1 [==============================] - 0s 15ms/step\n",
      "1/1 [==============================] - 0s 17ms/step\n",
      "1/1 [==============================] - 0s 17ms/step\n",
      "1/1 [==============================] - 0s 17ms/step\n",
      "1/1 [==============================] - 0s 17ms/step\n",
      "1/1 [==============================] - 0s 15ms/step\n",
      "1/1 [==============================] - 0s 17ms/step\n",
      "1/1 [==============================] - 0s 16ms/step\n",
      "1/1 [==============================] - 0s 15ms/step\n",
      "1/1 [==============================] - 0s 15ms/step\n",
      "1/1 [==============================] - 0s 16ms/step\n",
      "1/1 [==============================] - 0s 16ms/step\n",
      "1/1 [==============================] - 0s 15ms/step\n",
      "1/1 [==============================] - 0s 15ms/step\n",
      "1/1 [==============================] - 0s 15ms/step\n",
      "1/1 [==============================] - 0s 14ms/step\n",
      "1/1 [==============================] - 0s 15ms/step\n",
      "1/1 [==============================] - 0s 15ms/step\n",
      "1/1 [==============================] - 0s 15ms/step\n",
      "1/1 [==============================] - 0s 15ms/step\n",
      "1/1 [==============================] - 0s 15ms/step\n",
      "1/1 [==============================] - 0s 17ms/step\n",
      "1/1 [==============================] - 0s 17ms/step\n",
      "1/1 [==============================] - 0s 16ms/step\n",
      "1/1 [==============================] - 0s 16ms/step\n",
      "1/1 [==============================] - 0s 16ms/step\n",
      "1/1 [==============================] - 0s 15ms/step\n",
      "1/1 [==============================] - 0s 16ms/step\n",
      "1/1 [==============================] - 0s 17ms/step\n",
      "1/1 [==============================] - 0s 17ms/step\n",
      "1/1 [==============================] - 0s 17ms/step\n",
      "1/1 [==============================] - 0s 16ms/step\n",
      "1/1 [==============================] - 0s 16ms/step\n",
      "1/1 [==============================] - 0s 16ms/step\n",
      "1/1 [==============================] - 0s 17ms/step\n",
      "1/1 [==============================] - 0s 16ms/step\n",
      "1/1 [==============================] - 0s 16ms/step\n",
      "1/1 [==============================] - 0s 15ms/step\n",
      "1/1 [==============================] - 0s 15ms/step\n",
      "1/1 [==============================] - 0s 15ms/step\n",
      "1/1 [==============================] - 0s 15ms/step\n",
      "1/1 [==============================] - 0s 14ms/step\n",
      "1/1 [==============================] - 0s 15ms/step\n",
      "1/1 [==============================] - 0s 15ms/step\n"
     ]
    }
   ],
   "source": [
    "test_predictions = []\n",
    "\n",
    "first_eval_batch = scaled_train[-length:]\n",
    "current_batch = first_eval_batch.reshape((1, length, n_features))\n",
    "\n",
    "for i in range(len(test)):\n",
    "    \n",
    "    # get prediction 1 time  stamp ahead \n",
    "    current_pred = model.predict(current_batch)[0]\n",
    "    \n",
    "    # store prediction \n",
    "    test_predictions.append(current_pred)\n",
    "    \n",
    "    # update batch to now include prediction and drop first value \n",
    "    current_batch = np.append(current_batch[:, 1:, :], [[current_pred]], axis=1)\n",
    "\n",
    "true_prediction = scaler.inverse_transform(test_predictions)"
   ]
  },
  {
   "cell_type": "code",
   "execution_count": 104,
   "id": "ffd55dd4",
   "metadata": {},
   "outputs": [
    {
     "name": "stderr",
     "output_type": "stream",
     "text": [
      "C:\\Users\\STUDENT\\AppData\\Local\\Temp/ipykernel_14896/1596403840.py:1: SettingWithCopyWarning: \n",
      "A value is trying to be set on a copy of a slice from a DataFrame.\n",
      "Try using .loc[row_indexer,col_indexer] = value instead\n",
      "\n",
      "See the caveats in the documentation: https://pandas.pydata.org/pandas-docs/stable/user_guide/indexing.html#returning-a-view-versus-a-copy\n",
      "  test['Predictions'] = true_prediction\n"
     ]
    }
   ],
   "source": [
    "test['Predictions'] = true_prediction"
   ]
  },
  {
   "cell_type": "code",
   "execution_count": 105,
   "id": "ca5ef382",
   "metadata": {},
   "outputs": [
    {
     "data": {
      "text/html": [
       "<div>\n",
       "<style scoped>\n",
       "    .dataframe tbody tr th:only-of-type {\n",
       "        vertical-align: middle;\n",
       "    }\n",
       "\n",
       "    .dataframe tbody tr th {\n",
       "        vertical-align: top;\n",
       "    }\n",
       "\n",
       "    .dataframe thead th {\n",
       "        text-align: right;\n",
       "    }\n",
       "</style>\n",
       "<table border=\"1\" class=\"dataframe\">\n",
       "  <thead>\n",
       "    <tr style=\"text-align: right;\">\n",
       "      <th></th>\n",
       "      <th>AQI</th>\n",
       "      <th>Predictions</th>\n",
       "    </tr>\n",
       "    <tr>\n",
       "      <th>Date</th>\n",
       "      <th></th>\n",
       "      <th></th>\n",
       "    </tr>\n",
       "  </thead>\n",
       "  <tbody>\n",
       "    <tr>\n",
       "      <th>2019-10-27</th>\n",
       "      <td>63.0</td>\n",
       "      <td>61.727431</td>\n",
       "    </tr>\n",
       "    <tr>\n",
       "      <th>2019-10-28</th>\n",
       "      <td>69.0</td>\n",
       "      <td>61.284499</td>\n",
       "    </tr>\n",
       "    <tr>\n",
       "      <th>2019-10-29</th>\n",
       "      <td>77.0</td>\n",
       "      <td>60.745031</td>\n",
       "    </tr>\n",
       "    <tr>\n",
       "      <th>2019-10-30</th>\n",
       "      <td>68.0</td>\n",
       "      <td>60.336878</td>\n",
       "    </tr>\n",
       "    <tr>\n",
       "      <th>2019-10-31</th>\n",
       "      <td>61.0</td>\n",
       "      <td>59.982869</td>\n",
       "    </tr>\n",
       "    <tr>\n",
       "      <th>...</th>\n",
       "      <td>...</td>\n",
       "      <td>...</td>\n",
       "    </tr>\n",
       "    <tr>\n",
       "      <th>2020-06-27</th>\n",
       "      <td>42.0</td>\n",
       "      <td>54.843537</td>\n",
       "    </tr>\n",
       "    <tr>\n",
       "      <th>2020-06-28</th>\n",
       "      <td>43.0</td>\n",
       "      <td>54.843537</td>\n",
       "    </tr>\n",
       "    <tr>\n",
       "      <th>2020-06-29</th>\n",
       "      <td>49.0</td>\n",
       "      <td>54.843537</td>\n",
       "    </tr>\n",
       "    <tr>\n",
       "      <th>2020-06-30</th>\n",
       "      <td>40.0</td>\n",
       "      <td>54.843537</td>\n",
       "    </tr>\n",
       "    <tr>\n",
       "      <th>2020-07-01</th>\n",
       "      <td>41.0</td>\n",
       "      <td>54.843537</td>\n",
       "    </tr>\n",
       "  </tbody>\n",
       "</table>\n",
       "<p>249 rows × 2 columns</p>\n",
       "</div>"
      ],
      "text/plain": [
       "             AQI  Predictions\n",
       "Date                         \n",
       "2019-10-27  63.0    61.727431\n",
       "2019-10-28  69.0    61.284499\n",
       "2019-10-29  77.0    60.745031\n",
       "2019-10-30  68.0    60.336878\n",
       "2019-10-31  61.0    59.982869\n",
       "...          ...          ...\n",
       "2020-06-27  42.0    54.843537\n",
       "2020-06-28  43.0    54.843537\n",
       "2020-06-29  49.0    54.843537\n",
       "2020-06-30  40.0    54.843537\n",
       "2020-07-01  41.0    54.843537\n",
       "\n",
       "[249 rows x 2 columns]"
      ]
     },
     "execution_count": 105,
     "metadata": {},
     "output_type": "execute_result"
    }
   ],
   "source": [
    "test"
   ]
  },
  {
   "cell_type": "code",
   "execution_count": 107,
   "id": "1fcb4c29",
   "metadata": {},
   "outputs": [
    {
     "data": {
      "text/plain": [
       "<AxesSubplot:xlabel='Date'>"
      ]
     },
     "execution_count": 107,
     "metadata": {},
     "output_type": "execute_result"
    },
    {
     "data": {
      "image/png": "[encoded data removed]",
      "text/plain": [
       "<Figure size 864x576 with 1 Axes>"
      ]
     },
     "metadata": {
      "needs_background": "light"
     },
     "output_type": "display_data"
    }
   ],
   "source": [
    "test.plot(figsize=(12,8))"
   ]
  },
  {
   "cell_type": "code",
   "execution_count": 109,
   "id": "107face2",
   "metadata": {},
   "outputs": [],
   "source": [
    "full_scaler = MinMaxScaler()\n",
    "scaled_full_data = full_scaler.fit_transform(d1)"
   ]
  },
  {
   "cell_type": "code",
   "execution_count": 110,
   "id": "a741099c",
   "metadata": {},
   "outputs": [],
   "source": [
    "length = 12\n",
    "generator = TimeseriesGenerator(scaled_full_data, scaled_full_data, \n",
    "                                length=length, batch_size=1)"
   ]
  },
  {
   "cell_type": "code",
   "execution_count": 111,
   "id": "8a227f2c",
   "metadata": {},
   "outputs": [
    {
     "name": "stdout",
     "output_type": "stream",
     "text": [
      "Epoch 1/8\n",
      "1093/1093 [==============================] - 3s 2ms/step - loss: 0.0098\n",
      "Epoch 2/8\n",
      "1093/1093 [==============================] - 2s 2ms/step - loss: 0.0081\n",
      "Epoch 3/8\n",
      "1093/1093 [==============================] - 2s 2ms/step - loss: 0.0076\n",
      "Epoch 4/8\n",
      "1093/1093 [==============================] - 3s 2ms/step - loss: 0.0072\n",
      "Epoch 5/8\n",
      "1093/1093 [==============================] - 3s 2ms/step - loss: 0.0071\n",
      "Epoch 6/8\n",
      "1093/1093 [==============================] - 2s 2ms/step - loss: 0.0071\n",
      "Epoch 7/8\n",
      "1093/1093 [==============================] - 2s 2ms/step - loss: 0.0071\n",
      "Epoch 8/8\n",
      "1093/1093 [==============================] - 2s 2ms/step - loss: 0.0071\n"
     ]
    },
    {
     "data": {
      "text/plain": [
       "<keras.callbacks.History at 0x2391e2e9e80>"
      ]
     },
     "execution_count": 111,
     "metadata": {},
     "output_type": "execute_result"
    }
   ],
   "source": [
    "model = Sequential()\n",
    "model.add(LSTM(100, activation='relu', input_shape=(length, n_features)))\n",
    "model.add(Dense(1))\n",
    "\n",
    "model.compile(optimizer='adam', loss='mse')\n",
    "\n",
    "model.fit(generator, epochs=8)"
   ]
  },
  {
   "cell_type": "code",
   "execution_count": null,
   "id": "fd815e74",
   "metadata": {},
   "outputs": [],
   "source": []
  }
 ],
 "metadata": {
  "kernelspec": {
   "display_name": "Python 3 (ipykernel)",
   "language": "python",
   "name": "python3"
  },
  "language_info": {
   "codemirror_mode": {
    "name": "ipython",
    "version": 3
   },
   "file_extension": ".py",
   "mimetype": "text/x-python",
   "name": "python",
   "nbconvert_exporter": "python",
   "pygments_lexer": "ipython3",
   "version": "3.9.7"
  }
 },
 "nbformat": 4,
 "nbformat_minor": 5
}

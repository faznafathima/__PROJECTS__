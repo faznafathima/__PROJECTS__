{
  "nbformat": 4,
  "nbformat_minor": 0,
  "metadata": {
    "colab": {
      "provenance": [],
      "include_colab_link": true
    },
    "kernelspec": {
      "name": "python3",
      "display_name": "Python 3"
    },
    "language_info": {
      "name": "python"
    }
  },
  "cells": [
    {
      "cell_type": "markdown",
      "metadata": {
        "id": "view-in-github",
        "colab_type": "text"
      },
      "source": [
        "<a href=\"https://colab.research.google.com/github/faznafathima/__PROJECTS__/blob/main/SVR.ipynb\" target=\"_parent\"><img src=\"https://colab.research.google.com/assets/colab-badge.svg\" alt=\"Open In Colab\"/></a>"
      ]
    },
    {
      "cell_type": "code",
      "source": [
        "# get the libraries\n",
        "import numpy as np\n",
        "import matplotlib.pyplot as plt\n",
        "import pandas as pd"
      ],
      "metadata": {
        "id": "_lIuxz82ojMv"
      },
      "execution_count": 1,
      "outputs": []
    },
    {
      "cell_type": "code",
      "source": [
        "# get the dataset\n",
        "dataset = pd.read_csv('https://raw.githubusercontent.com/aviralb13/codes/main/datas/Position_Salaries.csv')\n",
        "# our dataset in this implementation is small, and thus we can print it all instead of viewing only the end\n",
        "print(dataset)"
      ],
      "metadata": {
        "id": "9zGSrkomojzf",
        "outputId": "c5f3dac4-e903-4c98-b29e-371227b3f356",
        "colab": {
          "base_uri": "https://localhost:8080/"
        }
      },
      "execution_count": 2,
      "outputs": [
        {
          "output_type": "stream",
          "name": "stdout",
          "text": [
            "            Position  Level   Salary\n",
            "0   Business Analyst      1    45000\n",
            "1  Junior Consultant      2    50000\n",
            "2  Senior Consultant      3    60000\n",
            "3            Manager      4    80000\n",
            "4    Country Manager      5   110000\n",
            "5     Region Manager      6   150000\n",
            "6            Partner      7   200000\n",
            "7     Senior Partner      8   300000\n",
            "8            C-level      9   500000\n",
            "9                CEO     10  1000000\n"
          ]
        }
      ]
    },
    {
      "cell_type": "code",
      "source": [
        "# split the data into featutes and target variable seperately\n",
        "X_l = dataset.iloc[:, 1:-1].values # features set\n",
        "y_p = dataset.iloc[:, -1].values # set of study variable"
      ],
      "metadata": {
        "id": "5qyszX2GonMS"
      },
      "execution_count": 3,
      "outputs": []
    },
    {
      "cell_type": "code",
      "source": [
        "print(X_l)"
      ],
      "metadata": {
        "id": "nqEklh2Eorsa",
        "outputId": "c74b0467-42d8-48a5-bb4d-296b40d4a210",
        "colab": {
          "base_uri": "https://localhost:8080/"
        }
      },
      "execution_count": 4,
      "outputs": [
        {
          "output_type": "stream",
          "name": "stdout",
          "text": [
            "[[ 1]\n",
            " [ 2]\n",
            " [ 3]\n",
            " [ 4]\n",
            " [ 5]\n",
            " [ 6]\n",
            " [ 7]\n",
            " [ 8]\n",
            " [ 9]\n",
            " [10]]\n"
          ]
        }
      ]
    },
    {
      "cell_type": "code",
      "source": [
        "print(y_p)"
      ],
      "metadata": {
        "id": "klHxudMTow9I",
        "outputId": "45e129ba-e466-4d09-9fe1-0c82f30f6e60",
        "colab": {
          "base_uri": "https://localhost:8080/"
        }
      },
      "execution_count": 5,
      "outputs": [
        {
          "output_type": "stream",
          "name": "stdout",
          "text": [
            "[  45000   50000   60000   80000  110000  150000  200000  300000  500000\n",
            " 1000000]\n"
          ]
        }
      ]
    },
    {
      "cell_type": "code",
      "source": [
        "y_p = y_p.reshape(-1,1)"
      ],
      "metadata": {
        "id": "lUzSAdX3o_rA"
      },
      "execution_count": 6,
      "outputs": []
    },
    {
      "cell_type": "code",
      "source": [
        "from sklearn.preprocessing import StandardScaler\n",
        "StdS_X = StandardScaler()\n",
        "StdS_y = StandardScaler()\n",
        "X_l = StdS_X.fit_transform(X_l)\n",
        "y_p = StdS_y.fit_transform(y_p)"
      ],
      "metadata": {
        "id": "CyaNBrizpDbS"
      },
      "execution_count": 7,
      "outputs": []
    },
    {
      "cell_type": "code",
      "source": [
        "print(\"Scaled X_l:\")\n",
        "print(X_l)\n",
        "print(\"Scaled y_p:\")\n",
        "print(y_p)"
      ],
      "metadata": {
        "id": "Jlt_bpa5pHE6",
        "outputId": "2c0d4466-f3d5-4039-eb37-ea367d6cdccf",
        "colab": {
          "base_uri": "https://localhost:8080/"
        }
      },
      "execution_count": 8,
      "outputs": [
        {
          "output_type": "stream",
          "name": "stdout",
          "text": [
            "Scaled X_l:\n",
            "[[-1.5666989 ]\n",
            " [-1.21854359]\n",
            " [-0.87038828]\n",
            " [-0.52223297]\n",
            " [-0.17407766]\n",
            " [ 0.17407766]\n",
            " [ 0.52223297]\n",
            " [ 0.87038828]\n",
            " [ 1.21854359]\n",
            " [ 1.5666989 ]]\n",
            "Scaled y_p:\n",
            "[[-0.72004253]\n",
            " [-0.70243757]\n",
            " [-0.66722767]\n",
            " [-0.59680786]\n",
            " [-0.49117815]\n",
            " [-0.35033854]\n",
            " [-0.17428902]\n",
            " [ 0.17781001]\n",
            " [ 0.88200808]\n",
            " [ 2.64250325]]\n"
          ]
        }
      ]
    },
    {
      "cell_type": "code",
      "source": [
        "plt.scatter(X_l, y_p, color = 'red') # plotting the training set\n",
        "plt.title('Scatter Plot') # adding a tittle to our plot\n",
        "plt.xlabel('Levels') # adds a label to the x-axis\n",
        "plt.ylabel('Salary') # adds a label to the y-axis\n",
        "plt.show() # prints"
      ],
      "metadata": {
        "id": "n_E3klYspJdK",
        "outputId": "7548955a-90ce-4b8c-df04-c1369b1b5071",
        "colab": {
          "base_uri": "https://localhost:8080/",
          "height": 295
        }
      },
      "execution_count": 9,
      "outputs": [
        {
          "output_type": "display_data",
          "data": {
            "text/plain": [
              "<Figure size 432x288 with 1 Axes>"
            ],
            "image/png": "[encoded data removed]"
          },
          "metadata": {
            "needs_background": "light"
          }
        }
      ]
    },
    {
      "cell_type": "code",
      "source": [
        "# import the model\n",
        "from sklearn.svm import SVR\n",
        "# create the model object\n",
        "regressor = SVR(kernel = 'rbf')\n",
        "# fit the model on the data\n",
        "regressor.fit(X_l, y_p)"
      ],
      "metadata": {
        "id": "EPolOo_wpkfj",
        "outputId": "351b556d-a8ed-4002-b37b-c1316a244fff",
        "colab": {
          "base_uri": "https://localhost:8080/"
        }
      },
      "execution_count": 10,
      "outputs": [
        {
          "output_type": "stream",
          "name": "stderr",
          "text": [
            "/usr/local/lib/python3.8/dist-packages/sklearn/utils/validation.py:993: DataConversionWarning: A column-vector y was passed when a 1d array was expected. Please change the shape of y to (n_samples, ), for example using ravel().\n",
            "  y = column_or_1d(y, warn=True)\n"
          ]
        },
        {
          "output_type": "execute_result",
          "data": {
            "text/plain": [
              "SVR()"
            ]
          },
          "metadata": {},
          "execution_count": 10
        }
      ]
    },
    {
      "cell_type": "code",
      "source": [
        "A=regressor.predict(StdS_X.transform([[6.5]]))\n",
        "print(A)"
      ],
      "metadata": {
        "id": "z2uIktekpnwi",
        "outputId": "125ed835-192a-4636-879b-36dcf067fa53",
        "colab": {
          "base_uri": "https://localhost:8080/"
        }
      },
      "execution_count": 11,
      "outputs": [
        {
          "output_type": "stream",
          "name": "stdout",
          "text": [
            "[-0.27861589]\n"
          ]
        }
      ]
    },
    {
      "cell_type": "code",
      "source": [
        "# Convert A to 2D\n",
        "A = A.reshape(-1,1)\n",
        "print(A)"
      ],
      "metadata": {
        "id": "GI6PGt5OpqEJ",
        "outputId": "eef77102-f405-4492-bdb2-1b67fbe9bb71",
        "colab": {
          "base_uri": "https://localhost:8080/"
        }
      },
      "execution_count": 12,
      "outputs": [
        {
          "output_type": "stream",
          "name": "stdout",
          "text": [
            "[[-0.27861589]]\n"
          ]
        }
      ]
    },
    {
      "cell_type": "code",
      "source": [
        "# Taking the inverse of the scaled value\n",
        "A_pred = StdS_y.inverse_transform(A)\n",
        "print(A_pred)"
      ],
      "metadata": {
        "id": "jKqVaegWpr-j",
        "outputId": "d0fb2b90-987e-4d22-b742-9930a94cfb5b",
        "colab": {
          "base_uri": "https://localhost:8080/"
        }
      },
      "execution_count": 13,
      "outputs": [
        {
          "output_type": "stream",
          "name": "stdout",
          "text": [
            "[[170370.0204065]]\n"
          ]
        }
      ]
    },
    {
      "cell_type": "code",
      "source": [
        "B_pred = StdS_y.inverse_transform(regressor.predict(StdS_X.transform([[6.5]])).reshape(-1,1))\n",
        "print(B_pred)"
      ],
      "metadata": {
        "id": "Tv98H8PZpvd1",
        "outputId": "f0ec8e3c-5f6e-4697-ee42-412d5dd1bfe2",
        "colab": {
          "base_uri": "https://localhost:8080/"
        }
      },
      "execution_count": 14,
      "outputs": [
        {
          "output_type": "stream",
          "name": "stdout",
          "text": [
            "[[170370.0204065]]\n"
          ]
        }
      ]
    },
    {
      "cell_type": "code",
      "source": [
        "# inverse the transformation to go back to the initial scale\n",
        "plt.scatter(StdS_X.inverse_transform(X_l), StdS_y.inverse_transform(y_p), color = 'red')\n",
        "plt.plot(StdS_X.inverse_transform(X_l), StdS_y.inverse_transform(regressor.predict(X_l).reshape(-1,1)), color = 'blue')\n",
        "# add the title to the plot\n",
        "plt.title('Support Vector Regression Model')\n",
        "# label x axis\n",
        "plt.xlabel('Position')\n",
        "# label y axis\n",
        "plt.ylabel('Salary Level')\n",
        "# print the plot\n",
        "plt.show()"
      ],
      "metadata": {
        "id": "bD8PKZacp1fh",
        "outputId": "d7d0789f-e1b5-4238-ac03-694e8261f376",
        "colab": {
          "base_uri": "https://localhost:8080/",
          "height": 295
        }
      },
      "execution_count": 15,
      "outputs": [
        {
          "output_type": "display_data",
          "data": {
            "text/plain": [
              "<Figure size 432x288 with 1 Axes>"
            ],
            "image/png": "[encoded data removed]"
          },
          "metadata": {
            "needs_background": "light"
          }
        }
      ]
    }
  ]
}
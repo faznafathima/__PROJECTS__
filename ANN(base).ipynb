{
  "cells": [
    {
      "cell_type": "code",
      "execution_count": 2,
      "metadata": {
        "id": "yz1SLUB5Pye3"
      },
      "outputs": [],
      "source": [
        "import librosa"
      ]
    },
    {
      "cell_type": "code",
      "source": [
        "from google.colab import drive\n",
        "drive.mount('/content/drive')"
      ],
      "metadata": {
        "id": "n3uKdcVEP6Ea",
        "outputId": "47f0efc7-026e-45ce-cc20-bc68e656843d",
        "colab": {
          "base_uri": "https://localhost:8080/"
        }
      },
      "execution_count": 1,
      "outputs": [
        {
          "output_type": "stream",
          "name": "stdout",
          "text": [
            "Mounted at /content/drive\n"
          ]
        }
      ]
    },
    {
      "cell_type": "code",
      "execution_count": 3,
      "metadata": {
        "id": "Zlw-_bi5Pye8"
      },
      "outputs": [],
      "source": [
        "import os,glob,pickle\n",
        "from sklearn.model_selection import train_test_split\n",
        "import numpy as np\n",
        "import pandas as pd"
      ]
    },
    {
      "cell_type": "code",
      "execution_count": 4,
      "metadata": {
        "id": "oaX9VFJXPye-"
      },
      "outputs": [],
      "source": [
        "def extract_feature(file_name, mfcc, chroma, mel):\n",
        "    with soundfile.SoundFile(file_name) as sound_file:\n",
        "        X = sound_file.read(dtype = \"float32\")\n",
        "        sample_rate = sound_file.samplerate\n",
        "        if chroma:\n",
        "            stft = np.abs(librosa.stft(X))\n",
        "        result = np.array([])\n",
        "        if mfcc:\n",
        "            mfccs = np.mean(librosa.feature.mfcc(y=X, sr=sample_rate, n_mfcc=40).T, axis=0)\n",
        "            result = np.hstack((result, mfccs))\n",
        "        if chroma:\n",
        "            chroma = np.mean(librosa.feature.chroma_stft(S=stft, sr=sample_rate).T,axis=0)\n",
        "            result = np.hstack((result, chroma))\n",
        "        if mel:\n",
        "            mel = np.mean(librosa.feature.melspectrogram(X, sr=sample_rate).T,axis=0)\n",
        "            result = np.hstack((result, mel))\n",
        "    return result"
      ]
    },
    {
      "cell_type": "code",
      "execution_count": 5,
      "metadata": {
        "id": "5uvHG67BPye_"
      },
      "outputs": [],
      "source": [
        "def featureExtractor(audio):\n",
        "    librosa_audio_data, librosa_sample_rate=librosa.load(audio)\n",
        "    mfccs_features= librosa.feature.mfcc(y=librosa_audio_data, sr= librosa_sample_rate,n_mfcc=20)\n",
        "    mfccs_scaled_features=np.mean(mfccs_features.T,axis=0)                             \n",
        "    return mfccs_scaled_features"
      ]
    },
    {
      "cell_type": "code",
      "execution_count": null,
      "metadata": {
        "id": "ycpoOtWWPyfA"
      },
      "outputs": [],
      "source": [
        "# def load_data(test_size=0.2):\n",
        "#     x,y = [],[]\n",
        "#     for file in glob.glob(r\"D:\\BTP\\infant cry\\donateacry_corpus_cleaned_and_updated_data\\*\"):\n",
        "#         label = os.path.basename(file)\n",
        "#         for audio in glob.glob(file+\"\\*.wav\"):\n",
        "# #             print(audio)\n",
        "#             feature = featureExtractor(audio)\n",
        "#             x.append(feature)\n",
        "#             y.append(label)\n",
        "#     return train_test_split(np.array(x), np.array(y), test_size=test_size, random_state=101)"
      ]
    },
    {
      "cell_type": "code",
      "execution_count": null,
      "metadata": {
        "id": "x0c3PIVzPyfB"
      },
      "outputs": [],
      "source": [
        "# x_train, x_test, y_train, y_test=load_data()"
      ]
    },
    {
      "cell_type": "code",
      "execution_count": null,
      "metadata": {
        "id": "g5z8TH_xPyfC"
      },
      "outputs": [],
      "source": [
        "# print(len(x_train),len(y_train),len(x_test),len(y_test))\n",
        "# print(x_train.shape,y_train.shape,x_test.shape,y_test.shape)"
      ]
    },
    {
      "cell_type": "code",
      "execution_count": 26,
      "metadata": {
        "id": "lt8ZCbckPyfD"
      },
      "outputs": [],
      "source": [
        "extracted_features=[]\n",
        "def load_data():\n",
        "    c=0\n",
        "    for file in glob.glob(r\"/content/drive/MyDrive/Baby_audio_dataset/*\"):\n",
        "        label = os.path.basename(file)\n",
        "        for audio in glob.glob(file+\"/*.wav\"):\n",
        "#             print(audio)\n",
        "            if(label=='hungry'):\n",
        "                if(c>200):\n",
        "                    continue\n",
        "                c+=1\n",
        "            feature = featureExtractor(audio)\n",
        "            extracted_features.append([feature,label])"
      ]
    },
    {
      "cell_type": "code",
      "execution_count": 27,
      "metadata": {
        "id": "RuoZIVRTPyfF"
      },
      "outputs": [],
      "source": [
        "load_data()"
      ]
    },
    {
      "cell_type": "code",
      "execution_count": null,
      "metadata": {
        "id": "0OTEkaQ2PyfG"
      },
      "outputs": [],
      "source": [
        "# extracted_features"
      ]
    },
    {
      "cell_type": "code",
      "execution_count": 28,
      "metadata": {
        "id": "aD7BFZ0HPyfG",
        "outputId": "966f914e-1950-4705-cce1-89d61fd3ae8c",
        "colab": {
          "base_uri": "https://localhost:8080/",
          "height": 206
        }
      },
      "outputs": [
        {
          "output_type": "execute_result",
          "data": {
            "text/plain": [
              "                                             feature       class\n",
              "0  [-259.2603, 102.64332, -4.2214217, 9.362978, -...  Baby laugh\n",
              "1  [-274.79245, 118.66719, -10.167014, 3.5980012,...  Baby laugh\n",
              "2  [-417.6871, 106.74806, 4.0384803, -0.8012256, ...  Baby laugh\n",
              "3  [-262.63992, 101.5998, -4.972275, 9.254425, -2...  Baby laugh\n",
              "4  [-244.17845, 122.29594, -1.7869653, 3.554358, ...  Baby laugh"
            ],
            "text/html": [
              "\n",
              "  <div id=\"df-2c6e535d-306c-4c44-97ec-d425b93d70b0\">\n",
              "    <div class=\"colab-df-container\">\n",
              "      <div>\n",
              "<style scoped>\n",
              "    .dataframe tbody tr th:only-of-type {\n",
              "        vertical-align: middle;\n",
              "    }\n",
              "\n",
              "    .dataframe tbody tr th {\n",
              "        vertical-align: top;\n",
              "    }\n",
              "\n",
              "    .dataframe thead th {\n",
              "        text-align: right;\n",
              "    }\n",
              "</style>\n",
              "<table border=\"1\" class=\"dataframe\">\n",
              "  <thead>\n",
              "    <tr style=\"text-align: right;\">\n",
              "      <th></th>\n",
              "      <th>feature</th>\n",
              "      <th>class</th>\n",
              "    </tr>\n",
              "  </thead>\n",
              "  <tbody>\n",
              "    <tr>\n",
              "      <th>0</th>\n",
              "      <td>[-259.2603, 102.64332, -4.2214217, 9.362978, -...</td>\n",
              "      <td>Baby laugh</td>\n",
              "    </tr>\n",
              "    <tr>\n",
              "      <th>1</th>\n",
              "      <td>[-274.79245, 118.66719, -10.167014, 3.5980012,...</td>\n",
              "      <td>Baby laugh</td>\n",
              "    </tr>\n",
              "    <tr>\n",
              "      <th>2</th>\n",
              "      <td>[-417.6871, 106.74806, 4.0384803, -0.8012256, ...</td>\n",
              "      <td>Baby laugh</td>\n",
              "    </tr>\n",
              "    <tr>\n",
              "      <th>3</th>\n",
              "      <td>[-262.63992, 101.5998, -4.972275, 9.254425, -2...</td>\n",
              "      <td>Baby laugh</td>\n",
              "    </tr>\n",
              "    <tr>\n",
              "      <th>4</th>\n",
              "      <td>[-244.17845, 122.29594, -1.7869653, 3.554358, ...</td>\n",
              "      <td>Baby laugh</td>\n",
              "    </tr>\n",
              "  </tbody>\n",
              "</table>\n",
              "</div>\n",
              "      <button class=\"colab-df-convert\" onclick=\"convertToInteractive('df-2c6e535d-306c-4c44-97ec-d425b93d70b0')\"\n",
              "              title=\"Convert this dataframe to an interactive table.\"\n",
              "              style=\"display:none;\">\n",
              "        \n",
              "  <svg xmlns=\"http://www.w3.org/2000/svg\" height=\"24px\"viewBox=\"0 0 24 24\"\n",
              "       width=\"24px\">\n",
              "    <path d=\"M0 0h24v24H0V0z\" fill=\"none\"/>\n",
              "    <path d=\"M18.56 5.44l.94 2.06.94-2.06 2.06-.94-2.06-.94-.94-2.06-.94 2.06-2.06.94zm-11 1L8.5 8.5l.94-2.06 2.06-.94-2.06-.94L8.5 2.5l-.94 2.06-2.06.94zm10 10l.94 2.06.94-2.06 2.06-.94-2.06-.94-.94-2.06-.94 2.06-2.06.94z\"/><path d=\"M17.41 7.96l-1.37-1.37c-.4-.4-.92-.59-1.43-.59-.52 0-1.04.2-1.43.59L10.3 9.45l-7.72 7.72c-.78.78-.78 2.05 0 2.83L4 21.41c.39.39.9.59 1.41.59.51 0 1.02-.2 1.41-.59l7.78-7.78 2.81-2.81c.8-.78.8-2.07 0-2.86zM5.41 20L4 18.59l7.72-7.72 1.47 1.35L5.41 20z\"/>\n",
              "  </svg>\n",
              "      </button>\n",
              "      \n",
              "  <style>\n",
              "    .colab-df-container {\n",
              "      display:flex;\n",
              "      flex-wrap:wrap;\n",
              "      gap: 12px;\n",
              "    }\n",
              "\n",
              "    .colab-df-convert {\n",
              "      background-color: #E8F0FE;\n",
              "      border: none;\n",
              "      border-radius: 50%;\n",
              "      cursor: pointer;\n",
              "      display: none;\n",
              "      fill: #1967D2;\n",
              "      height: 32px;\n",
              "      padding: 0 0 0 0;\n",
              "      width: 32px;\n",
              "    }\n",
              "\n",
              "    .colab-df-convert:hover {\n",
              "      background-color: #E2EBFA;\n",
              "      box-shadow: 0px 1px 2px rgba(60, 64, 67, 0.3), 0px 1px 3px 1px rgba(60, 64, 67, 0.15);\n",
              "      fill: #174EA6;\n",
              "    }\n",
              "\n",
              "    [theme=dark] .colab-df-convert {\n",
              "      background-color: #3B4455;\n",
              "      fill: #D2E3FC;\n",
              "    }\n",
              "\n",
              "    [theme=dark] .colab-df-convert:hover {\n",
              "      background-color: #434B5C;\n",
              "      box-shadow: 0px 1px 3px 1px rgba(0, 0, 0, 0.15);\n",
              "      filter: drop-shadow(0px 1px 2px rgba(0, 0, 0, 0.3));\n",
              "      fill: #FFFFFF;\n",
              "    }\n",
              "  </style>\n",
              "\n",
              "      <script>\n",
              "        const buttonEl =\n",
              "          document.querySelector('#df-2c6e535d-306c-4c44-97ec-d425b93d70b0 button.colab-df-convert');\n",
              "        buttonEl.style.display =\n",
              "          google.colab.kernel.accessAllowed ? 'block' : 'none';\n",
              "\n",
              "        async function convertToInteractive(key) {\n",
              "          const element = document.querySelector('#df-2c6e535d-306c-4c44-97ec-d425b93d70b0');\n",
              "          const dataTable =\n",
              "            await google.colab.kernel.invokeFunction('convertToInteractive',\n",
              "                                                     [key], {});\n",
              "          if (!dataTable) return;\n",
              "\n",
              "          const docLinkHtml = 'Like what you see? Visit the ' +\n",
              "            '<a target=\"_blank\" href=https://colab.research.google.com/notebooks/data_table.ipynb>data table notebook</a>'\n",
              "            + ' to learn more about interactive tables.';\n",
              "          element.innerHTML = '';\n",
              "          dataTable['output_type'] = 'display_data';\n",
              "          await google.colab.output.renderOutput(dataTable, element);\n",
              "          const docLink = document.createElement('div');\n",
              "          docLink.innerHTML = docLinkHtml;\n",
              "          element.appendChild(docLink);\n",
              "        }\n",
              "      </script>\n",
              "    </div>\n",
              "  </div>\n",
              "  "
            ]
          },
          "metadata": {},
          "execution_count": 28
        }
      ],
      "source": [
        "extracted_features_df=pd.DataFrame(extracted_features,columns=['feature','class'])\n",
        "extracted_features_df.head()"
      ]
    },
    {
      "cell_type": "code",
      "execution_count": 29,
      "metadata": {
        "id": "6Ku0W000PyfI",
        "outputId": "1202ddb3-a747-475f-8bd4-5d981332a0e4",
        "colab": {
          "base_uri": "https://localhost:8080/"
        }
      },
      "outputs": [
        {
          "output_type": "stream",
          "name": "stdout",
          "text": [
            "(452, 2)\n"
          ]
        }
      ],
      "source": [
        "print(extracted_features_df.shape)"
      ]
    },
    {
      "cell_type": "code",
      "execution_count": null,
      "metadata": {
        "id": "LENaAzrDPyfJ"
      },
      "outputs": [],
      "source": [
        "# audio_file_path='belly_pain.wav'\n",
        "# mfcc=featureExtractor(audio_file_path)\n",
        "# print(mfcc)\n",
        "# print(mfcc.shape)"
      ]
    },
    {
      "cell_type": "code",
      "execution_count": 30,
      "metadata": {
        "id": "PSmD3DAZPyfK"
      },
      "outputs": [],
      "source": [
        "X=np.array(extracted_features_df['feature'].tolist())\n",
        "Y=np.array(extracted_features_df['class'].tolist())"
      ]
    },
    {
      "cell_type": "code",
      "execution_count": 31,
      "metadata": {
        "id": "5IPVbLb1PyfL",
        "outputId": "a54598fb-4d3f-4f64-e484-5e701697c8a3",
        "colab": {
          "base_uri": "https://localhost:8080/"
        }
      },
      "outputs": [
        {
          "output_type": "stream",
          "name": "stdout",
          "text": [
            "(452, 20) (452,)\n",
            "['Baby laugh' 'Baby laugh' 'Baby laugh' 'Baby laugh' 'Baby laugh'\n",
            " 'Baby laugh' 'Baby laugh' 'Baby laugh' 'Baby laugh' 'Baby laugh'\n",
            " 'Baby laugh' 'Baby laugh' 'Baby laugh' 'Baby laugh' 'Baby laugh'\n",
            " 'Baby laugh' 'Baby laugh' 'Baby laugh' 'Baby laugh' 'Baby laugh'\n",
            " 'Baby laugh' 'Baby laugh' 'Baby laugh' 'Baby laugh' 'Baby laugh'\n",
            " 'Baby laugh' 'Baby laugh' 'Baby laugh' 'Baby laugh' 'Baby laugh'\n",
            " 'Baby laugh' 'Baby laugh' 'Baby laugh' 'Baby laugh' 'Baby laugh'\n",
            " 'Baby laugh' 'Baby laugh' 'Baby laugh' 'Baby laugh' 'Baby laugh'\n",
            " 'Baby laugh' 'Baby laugh' 'Baby laugh' 'Baby laugh' 'Baby laugh'\n",
            " 'Baby laugh' 'Baby laugh' 'Baby laugh' 'Baby laugh' 'Baby laugh'\n",
            " 'Baby laugh' 'Baby laugh' 'Baby laugh' 'Baby laugh' 'Baby laugh'\n",
            " 'Baby laugh' 'Baby laugh' 'Baby laugh' 'Baby laugh' 'Baby laugh'\n",
            " 'Baby laugh' 'Baby laugh' 'Baby laugh' 'Baby laugh' 'Baby laugh'\n",
            " 'Baby laugh' 'Baby laugh' 'Baby laugh' 'Baby laugh' 'Baby laugh'\n",
            " 'Baby laugh' 'Baby laugh' 'Baby laugh' 'Baby laugh' 'Baby laugh'\n",
            " 'Baby laugh' 'Baby laugh' 'Baby laugh' 'Baby laugh' 'Baby laugh'\n",
            " 'Baby laugh' 'Baby laugh' 'Baby laugh' 'Baby laugh' 'Baby laugh'\n",
            " 'Baby laugh' 'Baby laugh' 'Baby laugh' 'Baby laugh' 'Baby laugh'\n",
            " 'Baby laugh' 'Baby laugh' 'Baby laugh' 'Baby laugh' 'Baby laugh'\n",
            " 'Baby laugh' 'Baby laugh' 'Baby laugh' 'Baby laugh' 'Baby laugh'\n",
            " 'Baby laugh' 'Baby laugh' 'Baby laugh' 'Baby laugh' 'Baby laugh'\n",
            " 'Baby laugh' 'Baby laugh' 'Baby laugh' 'Crying baby' 'Crying baby'\n",
            " 'Crying baby' 'Crying baby' 'Crying baby' 'Crying baby' 'Crying baby'\n",
            " 'Crying baby' 'Crying baby' 'Crying baby' 'Crying baby' 'Crying baby'\n",
            " 'Crying baby' 'Crying baby' 'Crying baby' 'Crying baby' 'Crying baby'\n",
            " 'Crying baby' 'Crying baby' 'Crying baby' 'Crying baby' 'Crying baby'\n",
            " 'Crying baby' 'Crying baby' 'Crying baby' 'Crying baby' 'Crying baby'\n",
            " 'Crying baby' 'Crying baby' 'Crying baby' 'Crying baby' 'Crying baby'\n",
            " 'Crying baby' 'Crying baby' 'Crying baby' 'Crying baby' 'Crying baby'\n",
            " 'Crying baby' 'Crying baby' 'Crying baby' 'Crying baby' 'Crying baby'\n",
            " 'Crying baby' 'Crying baby' 'Crying baby' 'Crying baby' 'Crying baby'\n",
            " 'Crying baby' 'Crying baby' 'Crying baby' 'Crying baby' 'Crying baby'\n",
            " 'Crying baby' 'Crying baby' 'Crying baby' 'Crying baby' 'Crying baby'\n",
            " 'Crying baby' 'Crying baby' 'Crying baby' 'Crying baby' 'Crying baby'\n",
            " 'Crying baby' 'Crying baby' 'Crying baby' 'Crying baby' 'Crying baby'\n",
            " 'Crying baby' 'burping' 'burping' 'burping' 'burping' 'burping' 'burping'\n",
            " 'burping' 'burping' 'belly_pain' 'belly_pain' 'belly_pain' 'belly_pain'\n",
            " 'belly_pain' 'belly_pain' 'belly_pain' 'belly_pain' 'belly_pain'\n",
            " 'belly_pain' 'belly_pain' 'belly_pain' 'belly_pain' 'belly_pain'\n",
            " 'belly_pain' 'belly_pain' 'discomfort' 'discomfort' 'discomfort'\n",
            " 'discomfort' 'discomfort' 'discomfort' 'discomfort' 'discomfort'\n",
            " 'discomfort' 'discomfort' 'discomfort' 'discomfort' 'discomfort'\n",
            " 'discomfort' 'discomfort' 'discomfort' 'discomfort' 'discomfort'\n",
            " 'discomfort' 'discomfort' 'discomfort' 'discomfort' 'discomfort'\n",
            " 'discomfort' 'discomfort' 'discomfort' 'discomfort' 'hungry' 'hungry'\n",
            " 'hungry' 'hungry' 'hungry' 'hungry' 'hungry' 'hungry' 'hungry' 'hungry'\n",
            " 'hungry' 'hungry' 'hungry' 'hungry' 'hungry' 'hungry' 'hungry' 'hungry'\n",
            " 'hungry' 'hungry' 'hungry' 'hungry' 'hungry' 'hungry' 'hungry' 'hungry'\n",
            " 'hungry' 'hungry' 'hungry' 'hungry' 'hungry' 'hungry' 'hungry' 'hungry'\n",
            " 'hungry' 'hungry' 'hungry' 'hungry' 'hungry' 'hungry' 'hungry' 'hungry'\n",
            " 'hungry' 'hungry' 'hungry' 'hungry' 'hungry' 'hungry' 'hungry' 'hungry'\n",
            " 'hungry' 'hungry' 'hungry' 'hungry' 'hungry' 'hungry' 'hungry' 'hungry'\n",
            " 'hungry' 'hungry' 'hungry' 'hungry' 'hungry' 'hungry' 'hungry' 'hungry'\n",
            " 'hungry' 'hungry' 'hungry' 'hungry' 'hungry' 'hungry' 'hungry' 'hungry'\n",
            " 'hungry' 'hungry' 'hungry' 'hungry' 'hungry' 'hungry' 'hungry' 'hungry'\n",
            " 'hungry' 'hungry' 'hungry' 'hungry' 'hungry' 'hungry' 'hungry' 'hungry'\n",
            " 'hungry' 'hungry' 'hungry' 'hungry' 'hungry' 'hungry' 'hungry' 'hungry'\n",
            " 'hungry' 'hungry' 'hungry' 'hungry' 'hungry' 'hungry' 'hungry' 'hungry'\n",
            " 'hungry' 'hungry' 'hungry' 'hungry' 'hungry' 'hungry' 'hungry' 'hungry'\n",
            " 'hungry' 'hungry' 'hungry' 'hungry' 'hungry' 'hungry' 'hungry' 'hungry'\n",
            " 'hungry' 'hungry' 'hungry' 'hungry' 'hungry' 'hungry' 'hungry' 'hungry'\n",
            " 'hungry' 'hungry' 'hungry' 'hungry' 'hungry' 'hungry' 'hungry' 'hungry'\n",
            " 'hungry' 'hungry' 'hungry' 'hungry' 'hungry' 'hungry' 'hungry' 'hungry'\n",
            " 'hungry' 'hungry' 'hungry' 'hungry' 'hungry' 'hungry' 'hungry' 'hungry'\n",
            " 'hungry' 'hungry' 'hungry' 'hungry' 'hungry' 'hungry' 'hungry' 'hungry'\n",
            " 'hungry' 'hungry' 'hungry' 'hungry' 'hungry' 'hungry' 'hungry' 'hungry'\n",
            " 'hungry' 'hungry' 'hungry' 'hungry' 'hungry' 'hungry' 'hungry' 'hungry'\n",
            " 'hungry' 'hungry' 'hungry' 'hungry' 'hungry' 'hungry' 'hungry' 'hungry'\n",
            " 'hungry' 'hungry' 'hungry' 'hungry' 'hungry' 'hungry' 'hungry' 'hungry'\n",
            " 'hungry' 'hungry' 'hungry' 'hungry' 'hungry' 'hungry' 'hungry' 'tired'\n",
            " 'tired' 'tired' 'tired' 'tired' 'tired' 'tired' 'tired' 'tired' 'tired'\n",
            " 'tired' 'tired' 'tired' 'tired' 'tired' 'tired' 'tired' 'tired' 'tired'\n",
            " 'tired' 'tired' 'tired' 'tired' 'tired']\n"
          ]
        }
      ],
      "source": [
        "print(X.shape,Y.shape)\n",
        "print(Y)"
      ]
    },
    {
      "cell_type": "code",
      "execution_count": 32,
      "metadata": {
        "id": "7EMUNkshPyfL",
        "outputId": "76959538-6f9f-4a9a-8a88-7ef9a1ca5e11",
        "colab": {
          "base_uri": "https://localhost:8080/"
        }
      },
      "outputs": [
        {
          "output_type": "execute_result",
          "data": {
            "text/plain": [
              "(452,)"
            ]
          },
          "metadata": {},
          "execution_count": 32
        }
      ],
      "source": [
        "Y.shape"
      ]
    },
    {
      "cell_type": "code",
      "execution_count": 33,
      "metadata": {
        "id": "3GJyOPsYPyfM"
      },
      "outputs": [],
      "source": [
        "from tensorflow.keras.utils import to_categorical\n",
        "from sklearn.preprocessing import LabelEncoder\n",
        "labelencoder=LabelEncoder()\n",
        "y=to_categorical(labelencoder.fit_transform(Y))\n",
        "# Y=np.array(pd.get_dummies(Y))"
      ]
    },
    {
      "cell_type": "code",
      "execution_count": 34,
      "metadata": {
        "id": "TbuW_BnrPyfN",
        "outputId": "a549ad7f-9bdb-48f1-f077-691f5176f201",
        "colab": {
          "base_uri": "https://localhost:8080/"
        }
      },
      "outputs": [
        {
          "output_type": "stream",
          "name": "stdout",
          "text": [
            "(452, 7)\n"
          ]
        },
        {
          "output_type": "execute_result",
          "data": {
            "text/plain": [
              "array([[1., 0., 0., ..., 0., 0., 0.],\n",
              "       [1., 0., 0., ..., 0., 0., 0.],\n",
              "       [1., 0., 0., ..., 0., 0., 0.],\n",
              "       ...,\n",
              "       [0., 0., 0., ..., 0., 0., 1.],\n",
              "       [0., 0., 0., ..., 0., 0., 1.],\n",
              "       [0., 0., 0., ..., 0., 0., 1.]], dtype=float32)"
            ]
          },
          "metadata": {},
          "execution_count": 34
        }
      ],
      "source": [
        "print(y.shape)\n",
        "y"
      ]
    },
    {
      "cell_type": "code",
      "execution_count": 35,
      "metadata": {
        "id": "6wQ03itPPyfN"
      },
      "outputs": [],
      "source": [
        "#train test split\n",
        "X_train,X_test,y_train,y_test=train_test_split(X,y,test_size=0.2,random_state=0)"
      ]
    },
    {
      "cell_type": "code",
      "execution_count": 36,
      "metadata": {
        "id": "u74E77qSPyfN",
        "outputId": "5aaaba44-7ad4-41f1-dbf8-f6f61098002e",
        "colab": {
          "base_uri": "https://localhost:8080/"
        }
      },
      "outputs": [
        {
          "output_type": "execute_result",
          "data": {
            "text/plain": [
              "(361, 20)"
            ]
          },
          "metadata": {},
          "execution_count": 36
        }
      ],
      "source": [
        "X_train.shape"
      ]
    },
    {
      "cell_type": "code",
      "execution_count": 37,
      "metadata": {
        "id": "L7pGfPEgPyfO",
        "outputId": "6d85c3d4-9dce-4d7d-ea37-6590def88b12",
        "colab": {
          "base_uri": "https://localhost:8080/"
        }
      },
      "outputs": [
        {
          "output_type": "execute_result",
          "data": {
            "text/plain": [
              "(361, 7)"
            ]
          },
          "metadata": {},
          "execution_count": 37
        }
      ],
      "source": [
        "y_train.shape"
      ]
    },
    {
      "cell_type": "code",
      "execution_count": 38,
      "metadata": {
        "id": "ENvc7uKkPyfP",
        "outputId": "3f27da53-c918-4d6b-cddd-172e3211a261",
        "colab": {
          "base_uri": "https://localhost:8080/"
        }
      },
      "outputs": [
        {
          "output_type": "execute_result",
          "data": {
            "text/plain": [
              "(91, 20)"
            ]
          },
          "metadata": {},
          "execution_count": 38
        }
      ],
      "source": [
        "X_test.shape"
      ]
    },
    {
      "cell_type": "code",
      "execution_count": 39,
      "metadata": {
        "id": "CP-VGn5EPyfP",
        "outputId": "ff85d01d-3448-40fa-b7ae-23ec3535505e",
        "colab": {
          "base_uri": "https://localhost:8080/"
        }
      },
      "outputs": [
        {
          "output_type": "execute_result",
          "data": {
            "text/plain": [
              "(91, 7)"
            ]
          },
          "metadata": {},
          "execution_count": 39
        }
      ],
      "source": [
        "y_test.shape"
      ]
    },
    {
      "cell_type": "code",
      "execution_count": 40,
      "metadata": {
        "id": "t3UNPYkfPyfQ",
        "outputId": "de6a61e0-980d-40d6-d5b5-01242f664b37",
        "colab": {
          "base_uri": "https://localhost:8080/"
        }
      },
      "outputs": [
        {
          "output_type": "stream",
          "name": "stdout",
          "text": [
            "2.8.2\n"
          ]
        }
      ],
      "source": [
        "# BUILDING MODEL\n",
        "import tensorflow as tf\n",
        "print(tf.__version__)"
      ]
    },
    {
      "cell_type": "code",
      "execution_count": 41,
      "metadata": {
        "id": "jEnw4yv3PyfR"
      },
      "outputs": [],
      "source": [
        "from tensorflow.keras.models import Sequential\n",
        "from tensorflow.keras.layers import Dense,Dropout,Activation,Flatten\n",
        "from tensorflow.keras.optimizers import Adam\n",
        "from sklearn import metrics"
      ]
    },
    {
      "cell_type": "code",
      "execution_count": 42,
      "metadata": {
        "id": "bBO_6DXhPyfR"
      },
      "outputs": [],
      "source": [
        "num_labels=y.shape[1]"
      ]
    },
    {
      "cell_type": "code",
      "execution_count": 43,
      "metadata": {
        "id": "TiHeIRAvPyfR"
      },
      "outputs": [],
      "source": [
        "# Dense()"
      ]
    },
    {
      "cell_type": "code",
      "execution_count": 44,
      "metadata": {
        "id": "ddhG0N4MPyfR"
      },
      "outputs": [],
      "source": [
        "# ANN\n",
        "model=Sequential()\n",
        "#first layer\n",
        "model.add(Dense(100,input_shape=(20,)))\n",
        "model.add(Activation('relu'))\n",
        "model.add(Dropout(0.5))\n",
        "#second layer\n",
        "model.add(Dense(200))\n",
        "model.add(Activation('relu'))\n",
        "model.add(Dropout(0.5))\n",
        "          \n",
        "# final layer\n",
        "model.add(Dense(num_labels))\n",
        "model.add(Activation('softmax'))"
      ]
    },
    {
      "cell_type": "code",
      "execution_count": 45,
      "metadata": {
        "id": "QA4mIj2rPyfS",
        "outputId": "5e677f85-8710-423c-8a8c-5e05bfd34325",
        "colab": {
          "base_uri": "https://localhost:8080/"
        }
      },
      "outputs": [
        {
          "output_type": "stream",
          "name": "stdout",
          "text": [
            "Model: \"sequential\"\n",
            "_________________________________________________________________\n",
            " Layer (type)                Output Shape              Param #   \n",
            "=================================================================\n",
            " dense (Dense)               (None, 100)               2100      \n",
            "                                                                 \n",
            " activation (Activation)     (None, 100)               0         \n",
            "                                                                 \n",
            " dropout (Dropout)           (None, 100)               0         \n",
            "                                                                 \n",
            " dense_1 (Dense)             (None, 200)               20200     \n",
            "                                                                 \n",
            " activation_1 (Activation)   (None, 200)               0         \n",
            "                                                                 \n",
            " dropout_1 (Dropout)         (None, 200)               0         \n",
            "                                                                 \n",
            " dense_2 (Dense)             (None, 7)                 1407      \n",
            "                                                                 \n",
            " activation_2 (Activation)   (None, 7)                 0         \n",
            "                                                                 \n",
            "=================================================================\n",
            "Total params: 23,707\n",
            "Trainable params: 23,707\n",
            "Non-trainable params: 0\n",
            "_________________________________________________________________\n"
          ]
        }
      ],
      "source": [
        "model.summary()"
      ]
    },
    {
      "cell_type": "code",
      "execution_count": 46,
      "metadata": {
        "id": "VkKn3NmSPyfS"
      },
      "outputs": [],
      "source": [
        "model.compile(loss='categorical_crossentropy',metrics=['accuracy'],optimizer='adam')"
      ]
    },
    {
      "cell_type": "code",
      "execution_count": 47,
      "metadata": {
        "id": "_h2-rs4lPyfT",
        "outputId": "45873808-d114-4783-c46c-d0a4be013f5f",
        "colab": {
          "base_uri": "https://localhost:8080/"
        }
      },
      "outputs": [
        {
          "output_type": "stream",
          "name": "stdout",
          "text": [
            "Epoch 1/50\n",
            " 1/12 [=>............................] - ETA: 9s - loss: 62.6655 - accuracy: 0.0938\n",
            "Epoch 1: val_loss improved from inf to 15.86618, saving model to saved_models/audio_classification.hdf5\n",
            "12/12 [==============================] - 1s 25ms/step - loss: 42.4536 - accuracy: 0.2659 - val_loss: 15.8662 - val_accuracy: 0.4176\n",
            "Epoch 2/50\n",
            " 1/12 [=>............................] - ETA: 0s - loss: 20.1737 - accuracy: 0.4688\n",
            "Epoch 2: val_loss improved from 15.86618 to 7.16429, saving model to saved_models/audio_classification.hdf5\n",
            "12/12 [==============================] - 0s 9ms/step - loss: 27.9433 - accuracy: 0.3186 - val_loss: 7.1643 - val_accuracy: 0.5824\n",
            "Epoch 3/50\n",
            " 1/12 [=>............................] - ETA: 0s - loss: 25.1043 - accuracy: 0.3438\n",
            "Epoch 3: val_loss improved from 7.16429 to 6.09286, saving model to saved_models/audio_classification.hdf5\n",
            "12/12 [==============================] - 0s 9ms/step - loss: 21.4961 - accuracy: 0.3657 - val_loss: 6.0929 - val_accuracy: 0.5824\n",
            "Epoch 4/50\n",
            " 1/12 [=>............................] - ETA: 0s - loss: 16.5746 - accuracy: 0.3438\n",
            "Epoch 4: val_loss did not improve from 6.09286\n",
            "12/12 [==============================] - 0s 6ms/step - loss: 18.5045 - accuracy: 0.4100 - val_loss: 6.3637 - val_accuracy: 0.5165\n",
            "Epoch 5/50\n",
            " 1/12 [=>............................] - ETA: 0s - loss: 15.1801 - accuracy: 0.4688\n",
            "Epoch 5: val_loss improved from 6.09286 to 4.17836, saving model to saved_models/audio_classification.hdf5\n",
            "12/12 [==============================] - 0s 8ms/step - loss: 15.2122 - accuracy: 0.4404 - val_loss: 4.1784 - val_accuracy: 0.6813\n",
            "Epoch 6/50\n",
            " 1/12 [=>............................] - ETA: 0s - loss: 13.4093 - accuracy: 0.5000\n",
            "Epoch 6: val_loss improved from 4.17836 to 3.37036, saving model to saved_models/audio_classification.hdf5\n",
            "12/12 [==============================] - 0s 8ms/step - loss: 12.7390 - accuracy: 0.3989 - val_loss: 3.3704 - val_accuracy: 0.6484\n",
            "Epoch 7/50\n",
            " 1/12 [=>............................] - ETA: 0s - loss: 9.6668 - accuracy: 0.3750\n",
            "Epoch 7: val_loss improved from 3.37036 to 2.96275, saving model to saved_models/audio_classification.hdf5\n",
            "12/12 [==============================] - 0s 8ms/step - loss: 10.7910 - accuracy: 0.4127 - val_loss: 2.9628 - val_accuracy: 0.7033\n",
            "Epoch 8/50\n",
            " 1/12 [=>............................] - ETA: 0s - loss: 12.1732 - accuracy: 0.4375\n",
            "Epoch 8: val_loss improved from 2.96275 to 2.86746, saving model to saved_models/audio_classification.hdf5\n",
            "12/12 [==============================] - 0s 10ms/step - loss: 10.2886 - accuracy: 0.4211 - val_loss: 2.8675 - val_accuracy: 0.6923\n",
            "Epoch 9/50\n",
            " 1/12 [=>............................] - ETA: 0s - loss: 12.2301 - accuracy: 0.3125\n",
            "Epoch 9: val_loss improved from 2.86746 to 2.17248, saving model to saved_models/audio_classification.hdf5\n",
            "12/12 [==============================] - 0s 8ms/step - loss: 8.2948 - accuracy: 0.4266 - val_loss: 2.1725 - val_accuracy: 0.7143\n",
            "Epoch 10/50\n",
            " 1/12 [=>............................] - ETA: 0s - loss: 7.1779 - accuracy: 0.5000\n",
            "Epoch 10: val_loss improved from 2.17248 to 1.88778, saving model to saved_models/audio_classification.hdf5\n",
            "12/12 [==============================] - 0s 8ms/step - loss: 7.1182 - accuracy: 0.5014 - val_loss: 1.8878 - val_accuracy: 0.7143\n",
            "Epoch 11/50\n",
            " 1/12 [=>............................] - ETA: 0s - loss: 3.9702 - accuracy: 0.5938\n",
            "Epoch 11: val_loss improved from 1.88778 to 1.53273, saving model to saved_models/audio_classification.hdf5\n",
            "12/12 [==============================] - 0s 8ms/step - loss: 5.4750 - accuracy: 0.5568 - val_loss: 1.5327 - val_accuracy: 0.7473\n",
            "Epoch 12/50\n",
            " 1/12 [=>............................] - ETA: 0s - loss: 5.9865 - accuracy: 0.6250\n",
            "Epoch 12: val_loss improved from 1.53273 to 1.48922, saving model to saved_models/audio_classification.hdf5\n",
            "12/12 [==============================] - 0s 10ms/step - loss: 6.2597 - accuracy: 0.4737 - val_loss: 1.4892 - val_accuracy: 0.7363\n",
            "Epoch 13/50\n",
            " 1/12 [=>............................] - ETA: 0s - loss: 5.8024 - accuracy: 0.5312\n",
            "Epoch 13: val_loss improved from 1.48922 to 1.39358, saving model to saved_models/audio_classification.hdf5\n",
            "12/12 [==============================] - 0s 12ms/step - loss: 4.6955 - accuracy: 0.5485 - val_loss: 1.3936 - val_accuracy: 0.7143\n",
            "Epoch 14/50\n",
            " 1/12 [=>............................] - ETA: 0s - loss: 4.6033 - accuracy: 0.5000\n",
            "Epoch 14: val_loss improved from 1.39358 to 1.12501, saving model to saved_models/audio_classification.hdf5\n",
            "12/12 [==============================] - 0s 8ms/step - loss: 4.1134 - accuracy: 0.5485 - val_loss: 1.1250 - val_accuracy: 0.6923\n",
            "Epoch 15/50\n",
            " 1/12 [=>............................] - ETA: 0s - loss: 4.4513 - accuracy: 0.5000\n",
            "Epoch 15: val_loss improved from 1.12501 to 1.01404, saving model to saved_models/audio_classification.hdf5\n",
            "12/12 [==============================] - 0s 8ms/step - loss: 4.7517 - accuracy: 0.4931 - val_loss: 1.0140 - val_accuracy: 0.7143\n",
            "Epoch 16/50\n",
            " 1/12 [=>............................] - ETA: 0s - loss: 3.2370 - accuracy: 0.5312\n",
            "Epoch 16: val_loss did not improve from 1.01404\n",
            "12/12 [==============================] - 0s 6ms/step - loss: 3.7374 - accuracy: 0.5679 - val_loss: 1.0566 - val_accuracy: 0.6703\n",
            "Epoch 17/50\n",
            " 1/12 [=>............................] - ETA: 0s - loss: 2.5797 - accuracy: 0.6562\n",
            "Epoch 17: val_loss did not improve from 1.01404\n",
            "12/12 [==============================] - 0s 8ms/step - loss: 3.4755 - accuracy: 0.5319 - val_loss: 1.0811 - val_accuracy: 0.6923\n",
            "Epoch 18/50\n",
            " 1/12 [=>............................] - ETA: 0s - loss: 5.2878 - accuracy: 0.5312\n",
            "Epoch 18: val_loss improved from 1.01404 to 0.98216, saving model to saved_models/audio_classification.hdf5\n",
            "12/12 [==============================] - 0s 9ms/step - loss: 3.2867 - accuracy: 0.5512 - val_loss: 0.9822 - val_accuracy: 0.7143\n",
            "Epoch 19/50\n",
            " 1/12 [=>............................] - ETA: 0s - loss: 3.1803 - accuracy: 0.5625\n",
            "Epoch 19: val_loss improved from 0.98216 to 0.92143, saving model to saved_models/audio_classification.hdf5\n",
            "12/12 [==============================] - 0s 8ms/step - loss: 2.9939 - accuracy: 0.5512 - val_loss: 0.9214 - val_accuracy: 0.7033\n",
            "Epoch 20/50\n",
            " 1/12 [=>............................] - ETA: 0s - loss: 3.4095 - accuracy: 0.5938\n",
            "Epoch 20: val_loss improved from 0.92143 to 0.91473, saving model to saved_models/audio_classification.hdf5\n",
            "12/12 [==============================] - 0s 8ms/step - loss: 2.7829 - accuracy: 0.5706 - val_loss: 0.9147 - val_accuracy: 0.6813\n",
            "Epoch 21/50\n",
            " 1/12 [=>............................] - ETA: 0s - loss: 1.3391 - accuracy: 0.7812\n",
            "Epoch 21: val_loss improved from 0.91473 to 0.90824, saving model to saved_models/audio_classification.hdf5\n",
            "12/12 [==============================] - 0s 8ms/step - loss: 2.4974 - accuracy: 0.5873 - val_loss: 0.9082 - val_accuracy: 0.7033\n",
            "Epoch 22/50\n",
            " 1/12 [=>............................] - ETA: 0s - loss: 2.2798 - accuracy: 0.6250\n",
            "Epoch 22: val_loss improved from 0.90824 to 0.89732, saving model to saved_models/audio_classification.hdf5\n",
            "12/12 [==============================] - 0s 11ms/step - loss: 2.6772 - accuracy: 0.5983 - val_loss: 0.8973 - val_accuracy: 0.7253\n",
            "Epoch 23/50\n",
            " 1/12 [=>............................] - ETA: 0s - loss: 2.5776 - accuracy: 0.5000\n",
            "Epoch 23: val_loss did not improve from 0.89732\n",
            "12/12 [==============================] - 0s 5ms/step - loss: 2.4565 - accuracy: 0.5845 - val_loss: 0.9052 - val_accuracy: 0.7253\n",
            "Epoch 24/50\n",
            " 1/12 [=>............................] - ETA: 0s - loss: 2.1088 - accuracy: 0.5625\n",
            "Epoch 24: val_loss did not improve from 0.89732\n",
            "12/12 [==============================] - 0s 6ms/step - loss: 2.3749 - accuracy: 0.5900 - val_loss: 0.9514 - val_accuracy: 0.7253\n",
            "Epoch 25/50\n",
            " 1/12 [=>............................] - ETA: 0s - loss: 1.4571 - accuracy: 0.6562\n",
            "Epoch 25: val_loss did not improve from 0.89732\n",
            "12/12 [==============================] - 0s 5ms/step - loss: 1.8946 - accuracy: 0.6177 - val_loss: 0.9845 - val_accuracy: 0.6813\n",
            "Epoch 26/50\n",
            " 1/12 [=>............................] - ETA: 0s - loss: 1.3607 - accuracy: 0.5938\n",
            "Epoch 26: val_loss did not improve from 0.89732\n",
            "12/12 [==============================] - 0s 8ms/step - loss: 2.2019 - accuracy: 0.5956 - val_loss: 0.9921 - val_accuracy: 0.7143\n",
            "Epoch 27/50\n",
            " 1/12 [=>............................] - ETA: 0s - loss: 1.9481 - accuracy: 0.5938\n",
            "Epoch 27: val_loss did not improve from 0.89732\n",
            "12/12 [==============================] - 0s 7ms/step - loss: 2.0407 - accuracy: 0.5789 - val_loss: 0.9571 - val_accuracy: 0.7473\n",
            "Epoch 28/50\n",
            " 1/12 [=>............................] - ETA: 0s - loss: 2.6551 - accuracy: 0.4375\n",
            "Epoch 28: val_loss did not improve from 0.89732\n",
            "12/12 [==============================] - 0s 7ms/step - loss: 1.7524 - accuracy: 0.6011 - val_loss: 0.9141 - val_accuracy: 0.7363\n",
            "Epoch 29/50\n",
            " 1/12 [=>............................] - ETA: 0s - loss: 2.4294 - accuracy: 0.5312\n",
            "Epoch 29: val_loss improved from 0.89732 to 0.89008, saving model to saved_models/audio_classification.hdf5\n",
            "12/12 [==============================] - 0s 8ms/step - loss: 1.6288 - accuracy: 0.6260 - val_loss: 0.8901 - val_accuracy: 0.7582\n",
            "Epoch 30/50\n",
            " 1/12 [=>............................] - ETA: 0s - loss: 1.5646 - accuracy: 0.5938\n",
            "Epoch 30: val_loss improved from 0.89008 to 0.88265, saving model to saved_models/audio_classification.hdf5\n",
            "12/12 [==============================] - 0s 8ms/step - loss: 1.5127 - accuracy: 0.6731 - val_loss: 0.8826 - val_accuracy: 0.7692\n",
            "Epoch 31/50\n",
            " 1/12 [=>............................] - ETA: 0s - loss: 1.8991 - accuracy: 0.5938\n",
            "Epoch 31: val_loss improved from 0.88265 to 0.87148, saving model to saved_models/audio_classification.hdf5\n",
            "12/12 [==============================] - 0s 9ms/step - loss: 1.4606 - accuracy: 0.6316 - val_loss: 0.8715 - val_accuracy: 0.7912\n",
            "Epoch 32/50\n",
            " 1/12 [=>............................] - ETA: 0s - loss: 2.2405 - accuracy: 0.4688\n",
            "Epoch 32: val_loss improved from 0.87148 to 0.85480, saving model to saved_models/audio_classification.hdf5\n",
            "12/12 [==============================] - 0s 9ms/step - loss: 1.5438 - accuracy: 0.6593 - val_loss: 0.8548 - val_accuracy: 0.7582\n",
            "Epoch 33/50\n",
            " 1/12 [=>............................] - ETA: 0s - loss: 1.2125 - accuracy: 0.6875\n",
            "Epoch 33: val_loss improved from 0.85480 to 0.85295, saving model to saved_models/audio_classification.hdf5\n",
            "12/12 [==============================] - 0s 10ms/step - loss: 1.3408 - accuracy: 0.6537 - val_loss: 0.8530 - val_accuracy: 0.7692\n",
            "Epoch 34/50\n",
            " 1/12 [=>............................] - ETA: 0s - loss: 1.5209 - accuracy: 0.6562\n",
            "Epoch 34: val_loss did not improve from 0.85295\n",
            "12/12 [==============================] - 0s 8ms/step - loss: 1.2715 - accuracy: 0.6953 - val_loss: 0.8549 - val_accuracy: 0.7802\n",
            "Epoch 35/50\n",
            " 1/12 [=>............................] - ETA: 0s - loss: 1.4089 - accuracy: 0.5625\n",
            "Epoch 35: val_loss improved from 0.85295 to 0.83073, saving model to saved_models/audio_classification.hdf5\n",
            "12/12 [==============================] - 0s 8ms/step - loss: 1.3491 - accuracy: 0.6482 - val_loss: 0.8307 - val_accuracy: 0.8022\n",
            "Epoch 36/50\n",
            " 1/12 [=>............................] - ETA: 0s - loss: 1.2895 - accuracy: 0.6875\n",
            "Epoch 36: val_loss improved from 0.83073 to 0.82288, saving model to saved_models/audio_classification.hdf5\n",
            "12/12 [==============================] - 0s 9ms/step - loss: 1.1313 - accuracy: 0.6981 - val_loss: 0.8229 - val_accuracy: 0.7912\n",
            "Epoch 37/50\n",
            " 1/12 [=>............................] - ETA: 0s - loss: 0.9441 - accuracy: 0.7812\n",
            "Epoch 37: val_loss did not improve from 0.82288\n",
            "12/12 [==============================] - 0s 5ms/step - loss: 1.2143 - accuracy: 0.6787 - val_loss: 0.8277 - val_accuracy: 0.7912\n",
            "Epoch 38/50\n",
            " 1/12 [=>............................] - ETA: 0s - loss: 1.4018 - accuracy: 0.5938\n",
            "Epoch 38: val_loss did not improve from 0.82288\n",
            "12/12 [==============================] - 0s 5ms/step - loss: 1.1182 - accuracy: 0.7119 - val_loss: 0.8603 - val_accuracy: 0.7802\n",
            "Epoch 39/50\n",
            " 1/12 [=>............................] - ETA: 0s - loss: 1.2778 - accuracy: 0.6875\n",
            "Epoch 39: val_loss did not improve from 0.82288\n",
            "12/12 [==============================] - 0s 7ms/step - loss: 1.1620 - accuracy: 0.6731 - val_loss: 0.8623 - val_accuracy: 0.7802\n",
            "Epoch 40/50\n",
            " 1/12 [=>............................] - ETA: 0s - loss: 0.9324 - accuracy: 0.6875\n",
            "Epoch 40: val_loss did not improve from 0.82288\n",
            "12/12 [==============================] - 0s 6ms/step - loss: 1.1921 - accuracy: 0.6593 - val_loss: 0.8511 - val_accuracy: 0.7912\n",
            "Epoch 41/50\n",
            " 1/12 [=>............................] - ETA: 0s - loss: 1.2995 - accuracy: 0.5625\n",
            "Epoch 41: val_loss did not improve from 0.82288\n",
            "12/12 [==============================] - 0s 5ms/step - loss: 1.0835 - accuracy: 0.7008 - val_loss: 0.8376 - val_accuracy: 0.8022\n",
            "Epoch 42/50\n",
            " 1/12 [=>............................] - ETA: 0s - loss: 1.1950 - accuracy: 0.6875\n",
            "Epoch 42: val_loss improved from 0.82288 to 0.81259, saving model to saved_models/audio_classification.hdf5\n",
            "12/12 [==============================] - 0s 10ms/step - loss: 1.1246 - accuracy: 0.6870 - val_loss: 0.8126 - val_accuracy: 0.8022\n",
            "Epoch 43/50\n",
            " 1/12 [=>............................] - ETA: 0s - loss: 0.8324 - accuracy: 0.7188\n",
            "Epoch 43: val_loss improved from 0.81259 to 0.80428, saving model to saved_models/audio_classification.hdf5\n",
            "12/12 [==============================] - 0s 9ms/step - loss: 1.1852 - accuracy: 0.7091 - val_loss: 0.8043 - val_accuracy: 0.8022\n",
            "Epoch 44/50\n",
            " 1/12 [=>............................] - ETA: 0s - loss: 1.8795 - accuracy: 0.5312\n",
            "Epoch 44: val_loss improved from 0.80428 to 0.78910, saving model to saved_models/audio_classification.hdf5\n",
            "12/12 [==============================] - 0s 10ms/step - loss: 1.1465 - accuracy: 0.6981 - val_loss: 0.7891 - val_accuracy: 0.8022\n",
            "Epoch 45/50\n",
            " 1/12 [=>............................] - ETA: 0s - loss: 0.9047 - accuracy: 0.7188\n",
            "Epoch 45: val_loss did not improve from 0.78910\n",
            "12/12 [==============================] - 0s 7ms/step - loss: 1.0036 - accuracy: 0.7258 - val_loss: 0.8083 - val_accuracy: 0.8022\n",
            "Epoch 46/50\n",
            " 1/12 [=>............................] - ETA: 0s - loss: 1.4704 - accuracy: 0.5625\n",
            "Epoch 46: val_loss did not improve from 0.78910\n",
            "12/12 [==============================] - 0s 5ms/step - loss: 1.0244 - accuracy: 0.7175 - val_loss: 0.8224 - val_accuracy: 0.7912\n",
            "Epoch 47/50\n",
            " 1/12 [=>............................] - ETA: 0s - loss: 1.3753 - accuracy: 0.6562\n",
            "Epoch 47: val_loss did not improve from 0.78910\n",
            "12/12 [==============================] - 0s 7ms/step - loss: 0.9686 - accuracy: 0.7175 - val_loss: 0.8004 - val_accuracy: 0.7802\n",
            "Epoch 48/50\n",
            " 1/12 [=>............................] - ETA: 0s - loss: 0.5962 - accuracy: 0.8438\n",
            "Epoch 48: val_loss improved from 0.78910 to 0.78502, saving model to saved_models/audio_classification.hdf5\n",
            "12/12 [==============================] - 0s 8ms/step - loss: 0.9907 - accuracy: 0.7341 - val_loss: 0.7850 - val_accuracy: 0.7912\n",
            "Epoch 49/50\n",
            " 1/12 [=>............................] - ETA: 0s - loss: 1.3515 - accuracy: 0.6562\n",
            "Epoch 49: val_loss improved from 0.78502 to 0.76957, saving model to saved_models/audio_classification.hdf5\n",
            "12/12 [==============================] - 0s 8ms/step - loss: 1.0216 - accuracy: 0.7036 - val_loss: 0.7696 - val_accuracy: 0.8022\n",
            "Epoch 50/50\n",
            " 1/12 [=>............................] - ETA: 0s - loss: 0.7567 - accuracy: 0.8125\n",
            "Epoch 50: val_loss improved from 0.76957 to 0.76024, saving model to saved_models/audio_classification.hdf5\n",
            "12/12 [==============================] - 0s 8ms/step - loss: 0.9707 - accuracy: 0.7618 - val_loss: 0.7602 - val_accuracy: 0.8022\n",
            "Training completed in time:  0:00:06.270061\n"
          ]
        }
      ],
      "source": [
        "# Training\n",
        "from tensorflow.keras.callbacks import ModelCheckpoint\n",
        "from datetime import datetime\n",
        "\n",
        "num_epochs=50\n",
        "num_batch_size=32\n",
        "\n",
        "checkpointer=ModelCheckpoint(filepath='saved_models/audio_classification.hdf5',\n",
        "                             verbose=1,save_best_only=True)\n",
        "start=datetime.now()\n",
        "model.fit(X_train,y_train,batch_size=num_batch_size,epochs=num_epochs,\n",
        "          validation_data=(X_test,y_test),callbacks=[checkpointer] )\n",
        "duration=datetime.now() - start\n",
        "print(\"Training completed in time: \",duration)"
      ]
    },
    {
      "cell_type": "code",
      "execution_count": 48,
      "metadata": {
        "scrolled": false,
        "id": "mcBXhlAcPyfT",
        "outputId": "12319893-ad3e-414b-ee56-22cd64a35d49",
        "colab": {
          "base_uri": "https://localhost:8080/"
        }
      },
      "outputs": [
        {
          "output_type": "stream",
          "name": "stdout",
          "text": [
            "loss:  0.7602384686470032\n",
            "0.8021978139877319\n"
          ]
        }
      ],
      "source": [
        "loss,test_accuracy=model.evaluate(X_test,y_test,verbose=0)\n",
        "print(\"loss: \",loss)\n",
        "print(test_accuracy)"
      ]
    },
    {
      "cell_type": "code",
      "execution_count": 56,
      "metadata": {
        "scrolled": true,
        "id": "c9n8lOdqPyfT",
        "outputId": "3f44fb6b-f3e1-4885-ef25-e8c6f71a8d2c",
        "colab": {
          "base_uri": "https://localhost:8080/"
        }
      },
      "outputs": [
        {
          "output_type": "stream",
          "name": "stdout",
          "text": [
            "[[1.18456759e-01 8.71693313e-01 1.20725273e-03 1.21163798e-03\n",
            "  2.48265592e-03 1.73627667e-03 3.21204634e-03]\n",
            " [9.64695036e-01 2.97072232e-02 2.11346109e-04 9.62863123e-05\n",
            "  2.68931151e-03 2.26365868e-03 3.37222882e-04]\n",
            " [1.26667041e-02 1.57748573e-02 8.61570165e-02 6.21259026e-02\n",
            "  1.88863218e-01 5.13795972e-01 1.20616257e-01]\n",
            " [1.93046127e-02 2.00080518e-02 1.11394063e-01 1.36998594e-01\n",
            "  1.40861481e-01 4.47646111e-01 1.23787068e-01]\n",
            " [4.14372236e-02 3.49204876e-02 1.37786463e-01 1.27234057e-01\n",
            "  1.52530819e-01 3.20738703e-01 1.85352296e-01]\n",
            " [4.14668575e-05 9.99953389e-01 7.87085384e-08 8.27858969e-07\n",
            "  8.85973577e-07 1.77464710e-06 1.60405386e-06]\n",
            " [6.45187795e-01 5.70006035e-02 7.65090762e-03 1.49684888e-03\n",
            "  9.57313403e-02 1.00143030e-01 9.27893594e-02]\n",
            " [3.70117230e-03 4.77626640e-03 4.61574644e-02 7.20808655e-02\n",
            "  1.31663695e-01 5.72267771e-01 1.69352680e-01]\n",
            " [1.72441781e-01 3.42681110e-02 5.25308028e-02 6.72403211e-03\n",
            "  2.03391448e-01 3.74669462e-01 1.55974358e-01]\n",
            " [9.92988408e-01 5.70702367e-03 2.24031210e-05 3.31998262e-06\n",
            "  6.29791350e-04 5.13331150e-04 1.35753755e-04]\n",
            " [9.59326550e-02 1.13902859e-01 2.40393933e-02 3.42378840e-02\n",
            "  3.13613415e-01 3.32197309e-01 8.60764980e-02]\n",
            " [1.87985937e-03 9.98119771e-01 2.42939002e-12 1.27514978e-11\n",
            "  3.05397066e-07 2.03852032e-10 9.40482692e-11]\n",
            " [6.74874485e-02 2.59480942e-02 7.48341903e-02 3.47438194e-02\n",
            "  3.00256073e-01 3.27869862e-01 1.68860614e-01]\n",
            " [3.39046004e-04 9.99660850e-01 4.11987312e-13 8.05915751e-12\n",
            "  1.61494540e-07 2.02597647e-10 4.62303806e-11]\n",
            " [2.14047916e-02 1.09353699e-02 2.55986959e-01 7.49684125e-02\n",
            "  1.61231235e-01 2.77766258e-01 1.97706878e-01]\n",
            " [9.93648469e-01 5.04370173e-03 1.88196900e-05 5.17300168e-06\n",
            "  6.87287713e-04 5.17005567e-04 7.94469306e-05]\n",
            " [3.72164488e-01 5.27654409e-01 2.85596633e-03 2.20521446e-03\n",
            "  2.56397370e-02 4.63807248e-02 2.30994876e-02]\n",
            " [9.56089079e-01 2.76155919e-02 6.55855401e-04 3.09719966e-04\n",
            "  8.46793596e-03 5.17655257e-03 1.68537302e-03]\n",
            " [9.04572964e-01 7.47058466e-02 1.36159780e-03 7.09714601e-04\n",
            "  9.80359316e-03 6.09892467e-03 2.74729333e-03]\n",
            " [1.13212187e-02 1.05478950e-02 1.31849885e-01 8.47330540e-02\n",
            "  1.52518019e-01 4.89619523e-01 1.19410381e-01]\n",
            " [6.05221465e-03 1.40659455e-02 1.16957821e-01 5.44471256e-02\n",
            "  1.57267094e-01 5.33552229e-01 1.17657550e-01]\n",
            " [4.36369237e-03 4.09907894e-03 7.58824125e-02 2.95084082e-02\n",
            "  1.96277827e-01 6.77645802e-01 1.22227296e-02]\n",
            " [4.05097008e-02 2.58630496e-02 1.96046263e-01 1.00669168e-01\n",
            "  1.47701398e-01 3.26468349e-01 1.62742049e-01]\n",
            " [1.52890474e-01 6.50147736e-01 5.04959514e-03 9.71930195e-03\n",
            "  3.75710241e-02 7.82399178e-02 6.63819313e-02]\n",
            " [1.21819703e-02 1.16465371e-02 1.13280818e-01 9.77168530e-02\n",
            "  2.32976660e-01 4.59835500e-01 7.23616108e-02]\n",
            " [1.49106812e-02 8.21406581e-03 1.90454915e-01 9.68738645e-02\n",
            "  1.89203992e-01 3.44773293e-01 1.55569166e-01]\n",
            " [1.22818993e-02 1.07993027e-02 6.04222715e-02 8.68828148e-02\n",
            "  1.59264416e-01 5.25296092e-01 1.45053253e-01]\n",
            " [1.42229479e-02 4.51124087e-03 1.59641713e-01 1.56087084e-02\n",
            "  3.89819920e-01 3.23097408e-01 9.30981189e-02]\n",
            " [6.43975008e-03 8.29481147e-03 1.32955173e-02 2.81116366e-02\n",
            "  4.00332987e-01 4.81739938e-01 6.17852956e-02]\n",
            " [4.16315645e-02 2.34339554e-02 1.84971884e-01 5.19092567e-02\n",
            "  2.42152274e-01 2.93531418e-01 1.62369654e-01]\n",
            " [1.51486605e-01 3.67825627e-02 8.66168663e-02 1.93629190e-02\n",
            "  2.05056489e-01 3.08465958e-01 1.92228541e-01]\n",
            " [6.57993415e-03 1.11590372e-02 1.02771215e-01 5.01115918e-02\n",
            "  1.80198461e-01 5.13925791e-01 1.35253996e-01]\n",
            " [7.19895586e-02 3.27260196e-02 1.94644257e-01 6.45055324e-02\n",
            "  1.70560181e-01 2.88560688e-01 1.77013755e-01]\n",
            " [9.44295645e-01 3.49270627e-02 1.21557631e-03 2.94017751e-04\n",
            "  9.10891872e-03 7.12141814e-03 3.03717796e-03]\n",
            " [1.20835476e-01 2.67275572e-02 1.37179032e-01 3.79860513e-02\n",
            "  3.04375112e-01 2.57212758e-01 1.15684055e-01]\n",
            " [1.67231597e-02 9.99629311e-03 1.20954260e-01 8.77006203e-02\n",
            "  1.42541423e-01 4.67724860e-01 1.54359385e-01]\n",
            " [1.76041141e-01 3.05886567e-02 8.44325125e-02 2.49769613e-02\n",
            "  2.51952976e-01 2.87986606e-01 1.44021183e-01]\n",
            " [1.05493644e-03 9.19006357e-04 6.51685447e-02 9.89279617e-03\n",
            "  3.17359269e-01 5.20109415e-01 8.54960680e-02]\n",
            " [1.94286797e-02 1.89667009e-02 3.95224392e-02 3.23521793e-02\n",
            "  1.17064893e-01 7.44573236e-01 2.80918758e-02]\n",
            " [2.49094386e-02 2.34346166e-02 7.02201501e-02 9.57556069e-02\n",
            "  1.69096306e-01 4.48764324e-01 1.67819500e-01]\n",
            " [3.11481417e-04 9.99681711e-01 1.57831054e-10 1.24967450e-08\n",
            "  6.72240549e-06 7.02084080e-08 1.33671669e-08]\n",
            " [1.28209069e-02 6.76856935e-03 1.49585173e-01 7.96592012e-02\n",
            "  1.64979592e-01 3.79733026e-01 2.06453547e-01]\n",
            " [3.00096758e-02 1.58957168e-02 6.20018505e-02 9.03674066e-02\n",
            "  1.27737075e-01 5.90724587e-01 8.32637399e-02]\n",
            " [3.97405848e-02 4.95355716e-03 1.17814459e-01 2.34353039e-02\n",
            "  3.23373199e-01 3.56170058e-01 1.34512827e-01]\n",
            " [1.68350443e-01 3.39950658e-02 1.01389967e-01 2.86002178e-02\n",
            "  1.98979959e-01 2.89632261e-01 1.79051965e-01]\n",
            " [2.66271061e-03 6.84240228e-03 3.67057696e-02 1.05036445e-01\n",
            "  1.33546308e-01 4.62428987e-01 2.52777368e-01]\n",
            " [7.73611128e-01 1.62070811e-01 5.77305350e-03 2.70684436e-03\n",
            "  1.50006106e-02 1.63484495e-02 2.44890973e-02]\n",
            " [3.53468728e-04 9.99634027e-01 7.43777150e-07 1.60902573e-06\n",
            "  3.63038976e-06 1.93628352e-06 4.66174379e-06]\n",
            " [4.74796221e-02 1.70690846e-02 2.60704607e-01 7.54784644e-02\n",
            "  1.90153182e-01 2.55210578e-01 1.53904423e-01]\n",
            " [9.84432578e-01 1.08327456e-02 1.09125023e-04 3.64003208e-05\n",
            "  2.26981891e-03 1.80783612e-03 5.11428458e-04]\n",
            " [3.40065397e-02 1.89642590e-02 2.03907222e-01 8.16933140e-02\n",
            "  2.00434148e-01 2.82441884e-01 1.78552642e-01]\n",
            " [1.90763399e-02 2.89272126e-02 9.93230790e-02 1.37272477e-01\n",
            "  1.34172723e-01 4.48313832e-01 1.32914364e-01]\n",
            " [9.07491818e-02 9.04222906e-01 3.98661534e-04 7.95527536e-04\n",
            "  3.26923328e-03 4.73683991e-04 9.09672744e-05]\n",
            " [9.69804823e-01 1.43590951e-02 2.20413844e-04 5.14484018e-05\n",
            "  9.07244068e-03 4.71830182e-03 1.77340489e-03]\n",
            " [7.16332734e-01 2.42529675e-01 4.56605246e-03 2.35985708e-03\n",
            "  7.72049138e-03 9.94089432e-03 1.65501628e-02]\n",
            " [9.88953114e-01 8.54459871e-03 6.68837529e-05 1.12249327e-05\n",
            "  1.15303032e-03 9.25033586e-04 3.46279092e-04]\n",
            " [1.37605444e-01 3.69782932e-02 1.27265587e-01 6.41643554e-02\n",
            "  3.26890945e-01 2.37557530e-01 6.95378482e-02]\n",
            " [9.98169184e-01 1.68889831e-03 1.66260713e-06 3.21705812e-07\n",
            "  5.00445531e-05 8.47451010e-05 5.15481406e-06]\n",
            " [9.94461417e-01 4.64306306e-03 1.37159568e-05 2.69112888e-06\n",
            "  4.22307989e-04 3.96504358e-04 6.02538857e-05]\n",
            " [3.36872041e-02 2.08953079e-02 7.47823715e-02 1.53100342e-01\n",
            "  1.34563461e-01 3.76431525e-01 2.06539795e-01]\n",
            " [4.56088310e-06 9.99994636e-01 1.14589316e-09 2.00879711e-07\n",
            "  4.38139011e-07 1.72574488e-07 1.53485882e-08]\n",
            " [5.79602532e-02 3.33704539e-02 2.09851280e-01 1.16822042e-01\n",
            "  1.69344082e-01 2.61729687e-01 1.50922209e-01]\n",
            " [5.95280994e-03 3.26651358e-03 8.13553184e-02 4.16969098e-02\n",
            "  2.15698063e-01 5.93625903e-01 5.84044941e-02]\n",
            " [9.82723355e-01 1.33023653e-02 8.43241432e-05 1.76550839e-05\n",
            "  2.10100249e-03 1.46480161e-03 3.06441449e-04]\n",
            " [2.36975968e-01 6.99321851e-02 4.87367734e-02 2.62075588e-02\n",
            "  3.06814373e-01 2.08583400e-01 1.02749802e-01]\n",
            " [8.06287289e-01 1.17259488e-01 7.28610205e-03 2.64560198e-03\n",
            "  1.50778079e-02 2.15857588e-02 2.98579484e-02]\n",
            " [5.44048607e-01 9.41991135e-02 1.19704129e-02 1.54984347e-03\n",
            "  3.43414582e-02 1.29088119e-01 1.84802458e-01]\n",
            " [3.21984924e-02 2.19167881e-02 1.99309677e-01 1.00430928e-01\n",
            "  1.98602572e-01 2.71559805e-01 1.75981790e-01]\n",
            " [3.80382352e-02 3.40871513e-02 1.40648559e-01 7.82073215e-02\n",
            "  2.70478338e-01 3.02467346e-01 1.36073098e-01]\n",
            " [5.27560571e-03 1.07483296e-02 1.38261065e-01 9.03662220e-02\n",
            "  1.88174158e-01 4.10192788e-01 1.56981811e-01]\n",
            " [5.31069875e-01 1.52863011e-01 1.60506181e-02 2.35523074e-03\n",
            "  3.34183462e-02 1.05526045e-01 1.58716977e-01]\n",
            " [3.34698968e-02 2.34415177e-02 9.30358917e-02 1.03577986e-01\n",
            "  1.67479530e-01 4.11524683e-01 1.67470515e-01]\n",
            " [1.81632414e-01 7.18233958e-02 3.15209813e-02 5.01290755e-03\n",
            "  1.68447837e-01 3.57070535e-01 1.84491977e-01]\n",
            " [6.75874122e-04 9.99323726e-01 2.97285752e-08 9.85385853e-08\n",
            "  5.56559847e-08 8.85519214e-08 2.82116360e-07]\n",
            " [9.94465768e-01 4.66540083e-03 1.59156243e-05 2.85609508e-06\n",
            "  4.00078105e-04 3.84825456e-04 6.52384333e-05]\n",
            " [1.49570582e-02 1.72398835e-02 1.36083752e-01 9.81721133e-02\n",
            "  1.69274166e-01 4.37726080e-01 1.26546979e-01]\n",
            " [5.16140163e-02 9.45474088e-01 1.20337783e-04 5.53546648e-04\n",
            "  1.84879743e-03 3.31035786e-04 5.82638531e-05]\n",
            " [2.32740287e-02 2.57377289e-02 1.28724486e-01 1.39912650e-01\n",
            "  1.43273696e-01 3.55581254e-01 1.83496147e-01]\n",
            " [9.72550869e-01 1.76450163e-02 1.61513686e-04 3.10021096e-05\n",
            "  3.90704954e-03 3.56100034e-03 2.14351155e-03]\n",
            " [3.38611979e-04 9.99648809e-01 1.84564215e-07 2.50848780e-06\n",
            "  1.43625653e-06 1.86403247e-06 6.55521535e-06]\n",
            " [5.22145722e-03 1.65284649e-02 1.10752240e-01 6.82849139e-02\n",
            "  1.91134214e-01 4.71931070e-01 1.36147663e-01]\n",
            " [2.09731096e-03 2.97743361e-02 8.99134278e-02 5.08089960e-02\n",
            "  2.41888031e-01 5.15200675e-01 7.03172237e-02]\n",
            " [3.02087073e-03 9.96963084e-01 1.03423929e-06 2.32332422e-06\n",
            "  1.74234935e-06 2.62558319e-06 8.15048497e-06]\n",
            " [2.74021346e-02 3.51868011e-02 1.34982765e-01 1.18638046e-01\n",
            "  1.75304115e-01 3.81085336e-01 1.27400771e-01]\n",
            " [6.24788627e-02 4.11190204e-02 1.17058836e-01 1.14875235e-01\n",
            "  1.87252417e-01 2.90810645e-01 1.86404973e-01]\n",
            " [2.77465698e-03 9.96551633e-01 8.34938055e-06 5.23885210e-05\n",
            "  5.46037045e-04 6.22805819e-05 4.70018722e-06]\n",
            " [2.45584641e-02 9.73032236e-01 6.99924612e-06 7.35732465e-05\n",
            "  1.91485137e-03 3.58199119e-04 5.57962339e-05]\n",
            " [2.00974140e-02 2.02553235e-02 9.08061489e-02 1.06117651e-01\n",
            "  1.57669082e-01 4.69102383e-01 1.35951966e-01]\n",
            " [8.15353543e-03 1.53632732e-02 1.47578880e-01 8.75101164e-02\n",
            "  2.05528513e-01 4.51041937e-01 8.48237127e-02]\n",
            " [2.34299386e-03 4.75657312e-03 1.25997558e-01 5.93408011e-02\n",
            "  1.91080526e-01 5.33946157e-01 8.25354010e-02]\n",
            " [9.67915595e-01 2.70769317e-02 1.85034136e-04 8.76393169e-05\n",
            "  2.32859887e-03 2.10535456e-03 3.00765969e-04]]\n"
          ]
        },
        {
          "output_type": "execute_result",
          "data": {
            "text/plain": [
              "array([1, 0, 5, 5, 5, 1, 0, 5, 5, 0, 5, 1, 5, 1, 5, 0, 1, 0, 0, 5, 5, 5,\n",
              "       5, 1, 5, 5, 5, 4, 5, 5, 5, 5, 5, 0, 4, 5, 5, 5, 5, 5, 1, 5, 5, 5,\n",
              "       5, 5, 0, 1, 2, 0, 5, 5, 1, 0, 0, 0, 4, 0, 0, 5, 1, 5, 5, 0, 4, 0,\n",
              "       0, 5, 5, 5, 0, 5, 5, 1, 0, 5, 1, 5, 0, 1, 5, 5, 1, 5, 5, 1, 1, 5,\n",
              "       5, 5, 0])"
            ]
          },
          "metadata": {},
          "execution_count": 56
        }
      ],
      "source": [
        "filename='/content/drive/MyDrive/Baby_audio_dataset/Baby laugh/laugh_1.m4a_0.wav'\n",
        "prediction_feature=featureExtractor(filename).reshape(1,-1)\n",
        "# model.predict_classes(prediction_feature)\n",
        "#predicted_label=model.predict_classes(prediction_feature)\n",
        "predicted_label=model.predict(X_test) \n",
        "#classes_x=np.argmax(predicted_label,axis=1)\n",
        "print(predicted_label)\n",
        "#predcited_class=labelencoder.inverse_transform(predicted_label)\n",
        "predicted_class=np.argmax(predicted_label,axis=1)\n",
        "predicted_class\n",
        "# (model.predict(prediction_feature) > 0.5).astype(\"int32\")"
      ]
    },
    {
      "cell_type": "code",
      "execution_count": 57,
      "metadata": {
        "id": "yM7q4e8jPyfU"
      },
      "outputs": [],
      "source": [
        "y_pred = model.predict(X_test) \n",
        "y_pred = np.argmax(y_pred, axis = 1) \n",
        "label = np.argmax(y_test,axis = 1) "
      ]
    },
    {
      "cell_type": "code",
      "execution_count": 58,
      "metadata": {
        "id": "fbzbaxprPyfU",
        "outputId": "e48b11b1-fe66-487c-a73e-a1bea9361dfd",
        "colab": {
          "base_uri": "https://localhost:8080/"
        }
      },
      "outputs": [
        {
          "output_type": "stream",
          "name": "stdout",
          "text": [
            "              precision    recall  f1-score   support\n",
            "\n",
            "           0       1.00      1.00      1.00        21\n",
            "           1       1.00      1.00      1.00        16\n",
            "           2       0.00      0.00      0.00         3\n",
            "           3       0.00      0.00      0.00         1\n",
            "           4       0.25      0.17      0.20         6\n",
            "           5       0.71      0.92      0.80        38\n",
            "           6       0.00      0.00      0.00         6\n",
            "\n",
            "    accuracy                           0.80        91\n",
            "   macro avg       0.42      0.44      0.43        91\n",
            "weighted avg       0.72      0.80      0.76        91\n",
            "\n"
          ]
        },
        {
          "output_type": "stream",
          "name": "stderr",
          "text": [
            "/usr/local/lib/python3.7/dist-packages/sklearn/metrics/_classification.py:1318: UndefinedMetricWarning: Precision and F-score are ill-defined and being set to 0.0 in labels with no predicted samples. Use `zero_division` parameter to control this behavior.\n",
            "  _warn_prf(average, modifier, msg_start, len(result))\n",
            "/usr/local/lib/python3.7/dist-packages/sklearn/metrics/_classification.py:1318: UndefinedMetricWarning: Precision and F-score are ill-defined and being set to 0.0 in labels with no predicted samples. Use `zero_division` parameter to control this behavior.\n",
            "  _warn_prf(average, modifier, msg_start, len(result))\n",
            "/usr/local/lib/python3.7/dist-packages/sklearn/metrics/_classification.py:1318: UndefinedMetricWarning: Precision and F-score are ill-defined and being set to 0.0 in labels with no predicted samples. Use `zero_division` parameter to control this behavior.\n",
            "  _warn_prf(average, modifier, msg_start, len(result))\n"
          ]
        }
      ],
      "source": [
        "from sklearn.metrics import classification_report,confusion_matrix,f1_score\n",
        "print(classification_report(y_true=label,y_pred=y_pred))"
      ]
    },
    {
      "cell_type": "code",
      "execution_count": 59,
      "metadata": {
        "id": "LKJpO7ZJPyfV",
        "outputId": "e269453c-41d0-4058-b31c-000482cc369e",
        "colab": {
          "base_uri": "https://localhost:8080/"
        }
      },
      "outputs": [
        {
          "output_type": "stream",
          "name": "stdout",
          "text": [
            "The f1-score per class:  [1.        1.        0.        0.        0.2       0.8045977 0.       ]\n",
            "The f1-score :  0.7557660730074522\n"
          ]
        }
      ],
      "source": [
        "f1_score_per_class_validation = f1_score(y_true=label,y_pred=y_pred,average=None) \n",
        "print(\"The f1-score per class: \",f1_score_per_class_validation)\n",
        "print(\"The f1-score : \",f1_score(y_true=label,y_pred=y_pred,average='weighted'))"
      ]
    },
    {
      "cell_type": "code",
      "execution_count": null,
      "metadata": {
        "id": "xj_ZRxYfPyfW"
      },
      "outputs": [],
      "source": []
    }
  ],
  "metadata": {
    "kernelspec": {
      "display_name": "Python 3",
      "language": "python",
      "name": "python3"
    },
    "language_info": {
      "codemirror_mode": {
        "name": "ipython",
        "version": 3
      },
      "file_extension": ".py",
      "mimetype": "text/x-python",
      "name": "python",
      "nbconvert_exporter": "python",
      "pygments_lexer": "ipython3",
      "version": "3.8.3"
    },
    "colab": {
      "provenance": []
    }
  },
  "nbformat": 4,
  "nbformat_minor": 0
}